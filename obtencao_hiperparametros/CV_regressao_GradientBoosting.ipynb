{
 "cells": [
  {
   "cell_type": "code",
   "execution_count": null,
   "metadata": {},
   "outputs": [],
   "source": [
    "###   Importação de bibliotecas   ###"
   ]
  },
  {
   "cell_type": "code",
   "execution_count": 3,
   "metadata": {},
   "outputs": [],
   "source": [
    "import TCC_supercon_dados as tsd\n",
    "import TCC_supercon_funcoes_apoio_ML as tsf\n",
    "import numpy as np\n",
    "from sklearn.metrics import mean_squared_error, r2_score\n",
    "import pandas as pd\n",
    "from sklearn.ensemble import GradientBoostingRegressor"
   ]
  },
  {
   "cell_type": "code",
   "execution_count": null,
   "metadata": {},
   "outputs": [],
   "source": [
    "### Divisão dos dados que serão usados em um processão de validação cruzada para obtenção de melhores parâmetros  ###"
   ]
  },
  {
   "cell_type": "code",
   "execution_count": 4,
   "metadata": {},
   "outputs": [],
   "source": [
    "X_treino, X_teste, Y_treino, Y_teste = tsf.divisao_dados_treinamento(0.2,tsd.X_modelagem,tsd.Y_modelagem)"
   ]
  },
  {
   "cell_type": "code",
   "execution_count": null,
   "metadata": {},
   "outputs": [],
   "source": [
    "###   Processo de validação cruzada visando a obtenção de melhores parâmetros   ###\n",
    "###   O processo trabalha sobre as funções criadas no arquivo TCC_supercon_funcoes_apoio_M   ###"
   ]
  },
  {
   "cell_type": "code",
   "execution_count": 5,
   "metadata": {},
   "outputs": [],
   "source": [
    "###   Parâmetros a serem avalizados   ###\n",
    "\n",
    "parametros = {'n_estimators' : np.arange(100,850,100), 'max_depth': np.arange(10,30,10), 'min_samples_split': np.arange(2,6,2),\n",
    "             'min_samples_leaf':np.arange(2,6,2), 'learning_rate': [.001,.1,1]}"
   ]
  },
  {
   "cell_type": "code",
   "execution_count": 6,
   "metadata": {},
   "outputs": [],
   "source": [
    "###   Chamando a classe para o processo   ###\n",
    "\n",
    "est = GradientBoostingRegressor()"
   ]
  },
  {
   "cell_type": "code",
   "execution_count": 7,
   "metadata": {},
   "outputs": [],
   "source": [
    "### Processo de validação cruzada (busca de parâmetros)   ###\n",
    "\n",
    "\n",
    "resultados_analise_parametros = tsf.obter_parametros(est, parametros, X_treino,Y_treino)"
   ]
  },
  {
   "cell_type": "code",
   "execution_count": 8,
   "metadata": {},
   "outputs": [
    {
     "data": {
      "text/plain": [
       "GradientBoostingRegressor(alpha=0.9, criterion='friedman_mse', init=None,\n",
       "                          learning_rate=0.1, loss='ls', max_depth=10,\n",
       "                          max_features=None, max_leaf_nodes=None,\n",
       "                          min_impurity_decrease=0.0, min_impurity_split=None,\n",
       "                          min_samples_leaf=4, min_samples_split=4,\n",
       "                          min_weight_fraction_leaf=0.0, n_estimators=100,\n",
       "                          n_iter_no_change=None, presort='auto',\n",
       "                          random_state=None, subsample=1.0, tol=0.0001,\n",
       "                          validation_fraction=0.1, verbose=0, warm_start=False)"
      ]
     },
     "execution_count": 8,
     "metadata": {},
     "output_type": "execute_result"
    }
   ],
   "source": [
    "###    Imprime a classe do modelo com os melhores parâmetros calculados   ###\n",
    "\n",
    "resultados_analise_parametros.best_estimator_"
   ]
  },
  {
   "cell_type": "code",
   "execution_count": 9,
   "metadata": {},
   "outputs": [
    {
     "data": {
      "text/plain": [
       "GradientBoostingRegressor(alpha=0.9, criterion='friedman_mse', init=None,\n",
       "                          learning_rate=0.1, loss='ls', max_depth=10,\n",
       "                          max_features=None, max_leaf_nodes=None,\n",
       "                          min_impurity_decrease=0.0, min_impurity_split=None,\n",
       "                          min_samples_leaf=4, min_samples_split=4,\n",
       "                          min_weight_fraction_leaf=0.0, n_estimators=100,\n",
       "                          n_iter_no_change=None, presort='auto',\n",
       "                          random_state=None, subsample=1.0, tol=0.0001,\n",
       "                          validation_fraction=0.1, verbose=0, warm_start=False)"
      ]
     },
     "execution_count": 9,
     "metadata": {},
     "output_type": "execute_result"
    }
   ],
   "source": [
    "###   Treina o modelo com os melhores prâmetros   ###\n",
    "\n",
    "treino1 = resultados_analise_parametros.best_estimator_\n",
    "treino1.fit(X_treino,Y_treino)"
   ]
  },
  {
   "cell_type": "code",
   "execution_count": 10,
   "metadata": {},
   "outputs": [
    {
     "name": "stdout",
     "output_type": "stream",
     "text": [
      "\n",
      " R^2: \n",
      " 0.9787192051760074 \n",
      " RMSE : \n",
      " 4.9903181883117975\n"
     ]
    }
   ],
   "source": [
    "###   Imprime o resultado dos dados treinados   ###\n",
    "\n",
    "print('\\n R^2: \\n', treino1.score(X_treino,Y_treino), '\\n RMSE : \\n',np.sqrt(mean_squared_error(treino1.predict(X_treino),Y_treino)))"
   ]
  },
  {
   "cell_type": "code",
   "execution_count": 11,
   "metadata": {},
   "outputs": [
    {
     "name": "stdout",
     "output_type": "stream",
     "text": [
      "\n",
      " R^2: \n",
      " 0.9320087149430583 \n",
      " RMSE : \n",
      " 8.89725450215527\n"
     ]
    }
   ],
   "source": [
    "###   Imprime o resultado dos dados nunca treinados   ###\n",
    "\n",
    "print('\\n R^2: \\n', treino1.score(X_teste,Y_teste), '\\n RMSE : \\n',np.sqrt(mean_squared_error(treino1.predict(X_teste),Y_teste)))"
   ]
  },
  {
   "cell_type": "code",
   "execution_count": 12,
   "metadata": {},
   "outputs": [],
   "source": [
    "###   Processo de validação cruzada visando a obtenção de melhores parâmetros 2   ###\n",
    "###   O processo trabalha sobre as funções criadas no arquivo TCC_supercon_funcoes_apoio_M   ###"
   ]
  },
  {
   "cell_type": "code",
   "execution_count": 15,
   "metadata": {},
   "outputs": [],
   "source": [
    "###   Parâmetros a serem avalizados   ###\n",
    "\n",
    "parametros2 = {'n_estimators' : [80,100,150,175], 'max_depth': [10,15], 'min_samples_split': [4,5],\n",
    "             'min_samples_leaf':[4,5], 'learning_rate': [.01,.1,.5]}\n",
    "\n",
    "est = GradientBoostingRegressor()"
   ]
  },
  {
   "cell_type": "code",
   "execution_count": 16,
   "metadata": {},
   "outputs": [],
   "source": [
    "resultados_analise_parametros2 = tsf.obter_parametros(est, parametros2, X_treino,Y_treino)"
   ]
  },
  {
   "cell_type": "code",
   "execution_count": 17,
   "metadata": {},
   "outputs": [
    {
     "data": {
      "text/plain": [
       "GradientBoostingRegressor(alpha=0.9, criterion='friedman_mse', init=None,\n",
       "                          learning_rate=0.1, loss='ls', max_depth=10,\n",
       "                          max_features=None, max_leaf_nodes=None,\n",
       "                          min_impurity_decrease=0.0, min_impurity_split=None,\n",
       "                          min_samples_leaf=5, min_samples_split=5,\n",
       "                          min_weight_fraction_leaf=0.0, n_estimators=150,\n",
       "                          n_iter_no_change=None, presort='auto',\n",
       "                          random_state=None, subsample=1.0, tol=0.0001,\n",
       "                          validation_fraction=0.1, verbose=0, warm_start=False)"
      ]
     },
     "execution_count": 17,
     "metadata": {},
     "output_type": "execute_result"
    }
   ],
   "source": [
    "resultados_analise_parametros2.best_estimator_"
   ]
  },
  {
   "cell_type": "code",
   "execution_count": 18,
   "metadata": {},
   "outputs": [
    {
     "data": {
      "text/plain": [
       "GradientBoostingRegressor(alpha=0.9, criterion='friedman_mse', init=None,\n",
       "                          learning_rate=0.1, loss='ls', max_depth=10,\n",
       "                          max_features=None, max_leaf_nodes=None,\n",
       "                          min_impurity_decrease=0.0, min_impurity_split=None,\n",
       "                          min_samples_leaf=5, min_samples_split=5,\n",
       "                          min_weight_fraction_leaf=0.0, n_estimators=150,\n",
       "                          n_iter_no_change=None, presort='auto',\n",
       "                          random_state=None, subsample=1.0, tol=0.0001,\n",
       "                          validation_fraction=0.1, verbose=0, warm_start=False)"
      ]
     },
     "execution_count": 18,
     "metadata": {},
     "output_type": "execute_result"
    }
   ],
   "source": [
    "###   Treina o modelo com os melhores prâmetros   ###\n",
    "\n",
    "treino2 = resultados_analise_parametros2.best_estimator_\n",
    "treino2.fit(X_treino,Y_treino)"
   ]
  },
  {
   "cell_type": "code",
   "execution_count": 19,
   "metadata": {},
   "outputs": [
    {
     "name": "stdout",
     "output_type": "stream",
     "text": [
      "\n",
      " R^2: \n",
      " 0.9791434705086706 \n",
      " RMSE : \n",
      " 4.940322921533428\n"
     ]
    }
   ],
   "source": [
    "###   Imprime o resultado dos dados treinados   ###\n",
    "\n",
    "print('\\n R^2: \\n', treino2.score(X_treino,Y_treino), '\\n RMSE : \\n',np.sqrt(mean_squared_error(treino2.predict(X_treino),Y_treino)))"
   ]
  },
  {
   "cell_type": "code",
   "execution_count": 20,
   "metadata": {},
   "outputs": [
    {
     "name": "stdout",
     "output_type": "stream",
     "text": [
      "\n",
      " R^2: \n",
      " 0.9308479166262699 \n",
      " RMSE : \n",
      " 8.972883377790936\n"
     ]
    }
   ],
   "source": [
    "###   Imprime o resultado dos dados nunca treinados   ###\n",
    "\n",
    "print('\\n R^2: \\n', treino2.score(X_teste,Y_teste), '\\n RMSE : \\n',np.sqrt(mean_squared_error(treino2.predict(X_teste),Y_teste)))"
   ]
  },
  {
   "cell_type": "code",
   "execution_count": 21,
   "metadata": {},
   "outputs": [],
   "source": [
    "###   Processo de validação cruzada visando a obtenção de melhores parâmetros 3   ###\n",
    "###   O processo trabalha sobre as funções criadas no arquivo TCC_supercon_funcoes_apoio_M   ###"
   ]
  },
  {
   "cell_type": "code",
   "execution_count": 23,
   "metadata": {},
   "outputs": [],
   "source": [
    "parametros3 = {'n_estimators' : [150,370], 'max_depth': [8,9,10], 'min_samples_split': [5,6],\n",
    "             'min_samples_leaf':[5,6], 'learning_rate': [.1]}\n",
    "est = GradientBoostingRegressor()"
   ]
  },
  {
   "cell_type": "code",
   "execution_count": 24,
   "metadata": {},
   "outputs": [],
   "source": [
    "resultados_analise_parametros3 = tsf.obter_parametros(est, parametros3, X_treino,Y_treino)"
   ]
  },
  {
   "cell_type": "code",
   "execution_count": 26,
   "metadata": {},
   "outputs": [
    {
     "data": {
      "text/plain": [
       "GradientBoostingRegressor(alpha=0.9, criterion='friedman_mse', init=None,\n",
       "                          learning_rate=0.1, loss='ls', max_depth=10,\n",
       "                          max_features=None, max_leaf_nodes=None,\n",
       "                          min_impurity_decrease=0.0, min_impurity_split=None,\n",
       "                          min_samples_leaf=6, min_samples_split=5,\n",
       "                          min_weight_fraction_leaf=0.0, n_estimators=150,\n",
       "                          n_iter_no_change=None, presort='auto',\n",
       "                          random_state=None, subsample=1.0, tol=0.0001,\n",
       "                          validation_fraction=0.1, verbose=0, warm_start=False)"
      ]
     },
     "execution_count": 26,
     "metadata": {},
     "output_type": "execute_result"
    }
   ],
   "source": [
    "resultados_analise_parametros3.best_estimator_"
   ]
  },
  {
   "cell_type": "code",
   "execution_count": 11,
   "metadata": {},
   "outputs": [
    {
     "data": {
      "text/plain": [
       "GradientBoostingRegressor(alpha=0.9, criterion='friedman_mse', init=None,\n",
       "                          learning_rate=0.1, loss='ls', max_depth=10,\n",
       "                          max_features=None, max_leaf_nodes=None,\n",
       "                          min_impurity_decrease=0.0, min_impurity_split=None,\n",
       "                          min_samples_leaf=6, min_samples_split=5,\n",
       "                          min_weight_fraction_leaf=0.0, n_estimators=150,\n",
       "                          n_iter_no_change=None, presort='auto',\n",
       "                          random_state=None, subsample=1.0, tol=0.0001,\n",
       "                          validation_fraction=0.1, verbose=0, warm_start=False)"
      ]
     },
     "execution_count": 11,
     "metadata": {},
     "output_type": "execute_result"
    }
   ],
   "source": [
    "###   Treina o modelo com os melhores prâmetros   ###\n",
    "\n",
    "treino3 = GradientBoostingRegressor(alpha=0.9, criterion='friedman_mse', init=None,\n",
    "                          learning_rate=0.1, loss='ls', max_depth=10,\n",
    "                          max_features=None, max_leaf_nodes=None,\n",
    "                          min_impurity_decrease=0.0, min_impurity_split=None,\n",
    "                          min_samples_leaf=6, min_samples_split=5,\n",
    "                          min_weight_fraction_leaf=0.0, n_estimators=150,\n",
    "                          n_iter_no_change=None, presort='auto',\n",
    "                          random_state=None, subsample=1.0, tol=0.0001,\n",
    "                          validation_fraction=0.1, verbose=0, warm_start=False)\n",
    "treino3.fit(X_treino,Y_treino)"
   ]
  },
  {
   "cell_type": "code",
   "execution_count": 12,
   "metadata": {},
   "outputs": [
    {
     "name": "stdout",
     "output_type": "stream",
     "text": [
      "\n",
      " R^2: \n",
      " 0.978529264003916 \n",
      " RMSE : \n",
      " 5.0125391918021815\n"
     ]
    }
   ],
   "source": [
    "###   Imprime o resultado dos dados treinados   ###\n",
    "\n",
    "print('\\n R^2: \\n', treino3.score(X_treino,Y_treino), '\\n RMSE : \\n',np.sqrt(mean_squared_error(treino3.predict(X_treino),Y_treino)))"
   ]
  },
  {
   "cell_type": "code",
   "execution_count": 13,
   "metadata": {},
   "outputs": [
    {
     "name": "stdout",
     "output_type": "stream",
     "text": [
      "\n",
      " R^2: \n",
      " 0.9308455364062471 \n",
      " RMSE : \n",
      " 8.973037800129779\n"
     ]
    }
   ],
   "source": [
    "###   Imprime o resultado dos dados nunca treinados   ###\n",
    "\n",
    "print('\\n R^2: \\n', treino3.score(X_teste,Y_teste), '\\n RMSE : \\n',np.sqrt(mean_squared_error(treino3.predict(X_teste),Y_teste)))"
   ]
  },
  {
   "cell_type": "code",
   "execution_count": 15,
   "metadata": {},
   "outputs": [
    {
     "data": {
      "image/png": "[encoded data removed]",
      "text/plain": [
       "<Figure size 360x360 with 1 Axes>"
      ]
     },
     "metadata": {
      "needs_background": "light"
     },
     "output_type": "display_data"
    }
   ],
   "source": [
    "###   Visualização dos resultados de treinamento sobre dados nunca treinados pelo modelo   ###\n",
    "\n",
    "import matplotlib.pyplot as plt\n",
    "\n",
    "print_x = Y_teste\n",
    "print_y = treino3.predict(X_teste)\n",
    "\n",
    "f, ax = plt.subplots(figsize=(5, 5))\n",
    "plt.title('Tc prevista pelo modelo vs. Tc medida em laboratório')\n",
    "\n",
    "plt.xlabel('Temperatura crítica medida (K)')\n",
    "plt.ylabel('Temperatura crítica prevista (K)')\n",
    "plt.legend('Previsão')\n",
    "plt.plot(print_x,print_y, 'b.',label = 'Previsão')\n",
    "plt.plot(print_x,print_x, 'r-', label = 'Curva Ideal')\n",
    "plt.legend()\n",
    "\n",
    "plt.axis([-10,150,-10,150])\n",
    "\n",
    "plt.show()"
   ]
  },
  {
   "cell_type": "code",
   "execution_count": 16,
   "metadata": {},
   "outputs": [],
   "source": [
    "###   Avaliando as principais características do modelo   ###"
   ]
  },
  {
   "cell_type": "code",
   "execution_count": 17,
   "metadata": {},
   "outputs": [],
   "source": [
    "###   As 15 principais características do modelo   ###"
   ]
  },
  {
   "cell_type": "code",
   "execution_count": 19,
   "metadata": {},
   "outputs": [],
   "source": [
    "importancia = pd.DataFrame(np.transpose(treino3.feature_importances_),index=X_treino.columns)"
   ]
  },
  {
   "cell_type": "code",
   "execution_count": 20,
   "metadata": {},
   "outputs": [],
   "source": [
    "importancia_ordenada=importancia.sort_values(ascending=False,by=[0])"
   ]
  },
  {
   "cell_type": "code",
   "execution_count": 21,
   "metadata": {},
   "outputs": [],
   "source": [
    "importancia_ordenada_top_15=np.transpose(importancia_ordenada.iloc[0:15,:])"
   ]
  },
  {
   "cell_type": "code",
   "execution_count": 22,
   "metadata": {},
   "outputs": [
    {
     "data": {
      "image/png": "[encoded data removed]",
      "text/plain": [
       "<Figure size 360x360 with 1 Axes>"
      ]
     },
     "metadata": {
      "needs_background": "light"
     },
     "output_type": "display_data"
    }
   ],
   "source": [
    "f, ax = plt.subplots(figsize=(5, 5))\n",
    "plt.barh(importancia_ordenada_top_15.columns, importancia_ordenada_top_15.values[0],color=\"b\")\n",
    "plt.show()"
   ]
  },
  {
   "cell_type": "code",
   "execution_count": 23,
   "metadata": {},
   "outputs": [],
   "source": [
    "X_treino_importancia = X_treino.loc[:,importancia_ordenada_top_15.columns]\n",
    "X_teste_importancia = X_teste.loc[:,importancia_ordenada_top_15.columns]"
   ]
  },
  {
   "cell_type": "code",
   "execution_count": 26,
   "metadata": {},
   "outputs": [],
   "source": [
    "treino_importancia=GradientBoostingRegressor(alpha=0.9, criterion='friedman_mse', init=None,\n",
    "                          learning_rate=0.1, loss='ls', max_depth=10,\n",
    "                          max_features=None, max_leaf_nodes=None,\n",
    "                          min_impurity_decrease=0.0, min_impurity_split=None,\n",
    "                          min_samples_leaf=6, min_samples_split=5,\n",
    "                          min_weight_fraction_leaf=0.0, n_estimators=150,\n",
    "                          n_iter_no_change=None, presort='auto',\n",
    "                          random_state=None, subsample=1.0, tol=0.0001,\n",
    "                          validation_fraction=0.1, verbose=0, warm_start=False)"
   ]
  },
  {
   "cell_type": "code",
   "execution_count": 27,
   "metadata": {},
   "outputs": [
    {
     "data": {
      "text/plain": [
       "GradientBoostingRegressor(alpha=0.9, criterion='friedman_mse', init=None,\n",
       "                          learning_rate=0.1, loss='ls', max_depth=10,\n",
       "                          max_features=None, max_leaf_nodes=None,\n",
       "                          min_impurity_decrease=0.0, min_impurity_split=None,\n",
       "                          min_samples_leaf=6, min_samples_split=5,\n",
       "                          min_weight_fraction_leaf=0.0, n_estimators=150,\n",
       "                          n_iter_no_change=None, presort='auto',\n",
       "                          random_state=None, subsample=1.0, tol=0.0001,\n",
       "                          validation_fraction=0.1, verbose=0, warm_start=False)"
      ]
     },
     "execution_count": 27,
     "metadata": {},
     "output_type": "execute_result"
    }
   ],
   "source": [
    "treino_importancia.fit(X_treino_importancia,Y_treino)"
   ]
  },
  {
   "cell_type": "code",
   "execution_count": 28,
   "metadata": {},
   "outputs": [
    {
     "name": "stdout",
     "output_type": "stream",
     "text": [
      "\n",
      " R^2: \n",
      " 0.9710725676894743 \n",
      " RMSE : \n",
      " 5.818208203673946\n"
     ]
    }
   ],
   "source": [
    "###   Imprime o resultado dos dados treinados   ###\n",
    "\n",
    "print('\\n R^2: \\n', treino_importancia.score(X_treino_importancia,Y_treino), '\\n RMSE : \\n',np.sqrt(mean_squared_error(treino_importancia.predict(X_treino_importancia),Y_treino)))"
   ]
  },
  {
   "cell_type": "code",
   "execution_count": 30,
   "metadata": {},
   "outputs": [
    {
     "name": "stdout",
     "output_type": "stream",
     "text": [
      "\n",
      " R^2: \n",
      " 0.9250006342383159 \n",
      " RMSE : \n",
      " 9.344545524575327\n"
     ]
    }
   ],
   "source": [
    "###   Imprime o resultado dos dados treinados   ###\n",
    "\n",
    "print('\\n R^2: \\n', treino_importancia.score(X_teste_importancia,Y_teste), '\\n RMSE : \\n',np.sqrt(mean_squared_error(treino_importancia.predict(X_teste_importancia),Y_teste)))"
   ]
  },
  {
   "cell_type": "code",
   "execution_count": 31,
   "metadata": {},
   "outputs": [],
   "source": [
    "###   As 5 principais características do modelo   ###"
   ]
  },
  {
   "cell_type": "code",
   "execution_count": 32,
   "metadata": {},
   "outputs": [],
   "source": [
    "importancia_ordenada_top_5=np.transpose(importancia_ordenada.iloc[0:5,:])"
   ]
  },
  {
   "cell_type": "code",
   "execution_count": 33,
   "metadata": {},
   "outputs": [
    {
     "data": {
      "image/png": "[encoded data removed]",
      "text/plain": [
       "<Figure size 360x360 with 1 Axes>"
      ]
     },
     "metadata": {
      "needs_background": "light"
     },
     "output_type": "display_data"
    }
   ],
   "source": [
    "f, ax = plt.subplots(figsize=(5, 5))\n",
    "plt.barh(importancia_ordenada_top_5.columns, importancia_ordenada_top_5.values[0],color=\"b\")\n",
    "plt.show()"
   ]
  },
  {
   "cell_type": "code",
   "execution_count": 34,
   "metadata": {},
   "outputs": [],
   "source": [
    "X_treino_importancia_5 = X_treino.loc[:,importancia_ordenada_top_5.columns]\n",
    "X_teste_importancia_5 = X_teste.loc[:,importancia_ordenada_top_5.columns]"
   ]
  },
  {
   "cell_type": "code",
   "execution_count": 35,
   "metadata": {},
   "outputs": [],
   "source": [
    "treino_importancia_5=GradientBoostingRegressor(alpha=0.9, criterion='friedman_mse', init=None,\n",
    "                          learning_rate=0.1, loss='ls', max_depth=10,\n",
    "                          max_features=None, max_leaf_nodes=None,\n",
    "                          min_impurity_decrease=0.0, min_impurity_split=None,\n",
    "                          min_samples_leaf=6, min_samples_split=5,\n",
    "                          min_weight_fraction_leaf=0.0, n_estimators=150,\n",
    "                          n_iter_no_change=None, presort='auto',\n",
    "                          random_state=None, subsample=1.0, tol=0.0001,\n",
    "                          validation_fraction=0.1, verbose=0, warm_start=False)"
   ]
  },
  {
   "cell_type": "code",
   "execution_count": 36,
   "metadata": {},
   "outputs": [
    {
     "data": {
      "text/plain": [
       "GradientBoostingRegressor(alpha=0.9, criterion='friedman_mse', init=None,\n",
       "                          learning_rate=0.1, loss='ls', max_depth=10,\n",
       "                          max_features=None, max_leaf_nodes=None,\n",
       "                          min_impurity_decrease=0.0, min_impurity_split=None,\n",
       "                          min_samples_leaf=6, min_samples_split=5,\n",
       "                          min_weight_fraction_leaf=0.0, n_estimators=150,\n",
       "                          n_iter_no_change=None, presort='auto',\n",
       "                          random_state=None, subsample=1.0, tol=0.0001,\n",
       "                          validation_fraction=0.1, verbose=0, warm_start=False)"
      ]
     },
     "execution_count": 36,
     "metadata": {},
     "output_type": "execute_result"
    }
   ],
   "source": [
    "treino_importancia_5.fit(X_treino_importancia_5,Y_treino)"
   ]
  },
  {
   "cell_type": "code",
   "execution_count": 37,
   "metadata": {},
   "outputs": [
    {
     "name": "stdout",
     "output_type": "stream",
     "text": [
      "\n",
      " R^2: \n",
      " 0.9585884268096015 \n",
      " RMSE : \n",
      " 6.961377416067959\n"
     ]
    }
   ],
   "source": [
    "###   Imprime o resultado dos dados treinados   ###\n",
    "\n",
    "print('\\n R^2: \\n', treino_importancia_5.score(X_treino_importancia_5,Y_treino), '\\n RMSE : \\n',np.sqrt(mean_squared_error(treino_importancia_5.predict(X_treino_importancia_5),Y_treino)))"
   ]
  },
  {
   "cell_type": "code",
   "execution_count": 38,
   "metadata": {},
   "outputs": [
    {
     "name": "stdout",
     "output_type": "stream",
     "text": [
      "\n",
      " R^2: \n",
      " 0.9105916920838878 \n",
      " RMSE : \n",
      " 10.202775407085173\n"
     ]
    }
   ],
   "source": [
    "###   Imprime o resultado dos dados treinados   ###\n",
    "\n",
    "print('\\n R^2: \\n', treino_importancia_5.score(X_teste_importancia_5,Y_teste), '\\n RMSE : \\n',np.sqrt(mean_squared_error(treino_importancia_5.predict(X_teste_importancia_5),Y_teste)))"
   ]
  }
 ],
 "metadata": {
  "kernelspec": {
   "display_name": "Python 3",
   "language": "python",
   "name": "python3"
  },
  "language_info": {
   "codemirror_mode": {
    "name": "ipython",
    "version": 3
   },
   "file_extension": ".py",
   "mimetype": "text/x-python",
   "name": "python",
   "nbconvert_exporter": "python",
   "pygments_lexer": "ipython3",
   "version": "3.7.4"
  }
 },
 "nbformat": 4,
 "nbformat_minor": 4
}
