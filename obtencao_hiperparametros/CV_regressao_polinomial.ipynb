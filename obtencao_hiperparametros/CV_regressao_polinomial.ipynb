{
 "cells": [
  {
   "cell_type": "code",
   "execution_count": 23,
   "metadata": {},
   "outputs": [],
   "source": [
    "import supercon_dados as tsd\n",
    "import supercon_funcoes_apoio_ML as tsf\n",
    "import numpy as np\n",
    "from sklearn.preprocessing import PolynomialFeatures\n",
    "from sklearn.linear_model import LinearRegression\n",
    "from sklearn.metrics import mean_squared_error, r2_score\n",
    "import pandas as pd\n",
    "from sklearn.decomposition import PCA, KernelPCA\n",
    "import seaborn as sns"
   ]
  },
  {
   "cell_type": "code",
   "execution_count": 24,
   "metadata": {},
   "outputs": [],
   "source": [
    "X_treino, X_teste, Y_treino, Y_teste = tsf.divisao_dados_treinamento(0.2,tsd.X_modelagem,tsd.Y_modelagem)"
   ]
  },
  {
   "cell_type": "code",
   "execution_count": 25,
   "metadata": {},
   "outputs": [
    {
     "data": {
      "text/plain": [
       "(17231, 81)"
      ]
     },
     "execution_count": 25,
     "metadata": {},
     "output_type": "execute_result"
    }
   ],
   "source": [
    "X_treino.shape"
   ]
  },
  {
   "cell_type": "code",
   "execution_count": 26,
   "metadata": {},
   "outputs": [
    {
     "data": {
      "text/plain": [
       "PCA(copy=True, iterated_power='auto', n_components=None, random_state=None,\n",
       "    svd_solver='auto', tol=0.0, whiten=False)"
      ]
     },
     "execution_count": 26,
     "metadata": {},
     "output_type": "execute_result"
    }
   ],
   "source": [
    "pca = PCA()\n",
    "pca.fit(X_treino)"
   ]
  },
  {
   "cell_type": "code",
   "execution_count": 27,
   "metadata": {},
   "outputs": [
    {
     "data": {
      "text/plain": [
       "array([0.62497239, 0.92268224, 0.97210558, 0.98252944, 0.99127027,\n",
       "       0.99656129, 0.9980702 , 0.99886409, 0.99929713, 0.99950684,\n",
       "       0.99965695, 0.99978944, 0.99982995, 0.99986531, 0.99989473,\n",
       "       0.99991391, 0.99993177, 0.9999455 , 0.99995736, 0.9999655 ,\n",
       "       0.99997138, 0.99997687, 0.99998044, 0.99998383, 0.99998683,\n",
       "       0.99998918, 0.99999117, 0.99999275, 0.99999401, 0.99999512,\n",
       "       0.99999592, 0.99999664, 0.99999714, 0.99999759, 0.99999799,\n",
       "       0.99999831, 0.99999858, 0.9999988 , 0.99999901, 0.99999917,\n",
       "       0.99999933, 0.99999945, 0.99999956, 0.99999966, 0.99999973,\n",
       "       0.9999998 , 0.99999985, 0.99999989, 0.99999992, 0.99999993,\n",
       "       0.99999995, 0.99999996, 0.99999997, 0.99999998, 0.99999999,\n",
       "       0.99999999, 0.99999999, 1.        , 1.        , 1.        ,\n",
       "       1.        , 1.        , 1.        , 1.        , 1.        ,\n",
       "       1.        , 1.        , 1.        , 1.        , 1.        ,\n",
       "       1.        , 1.        , 1.        , 1.        , 1.        ,\n",
       "       1.        , 1.        , 1.        , 1.        , 1.        ,\n",
       "       1.        ])"
      ]
     },
     "execution_count": 27,
     "metadata": {},
     "output_type": "execute_result"
    }
   ],
   "source": [
    "cumsum = np.cumsum(pca.explained_variance_ratio_)\n",
    "cumsum"
   ]
  },
  {
   "cell_type": "code",
   "execution_count": 28,
   "metadata": {},
   "outputs": [],
   "source": [
    "\n",
    "x = np.arange(0,1,1/1000000)\n",
    "y = []\n",
    "for add in x:\n",
    "    \n",
    "    d = np.argmax(cumsum>=add)+1\n",
    "    \n",
    "    y.append(d)\n",
    "\n",
    "    \n",
    "y = np.array(y)"
   ]
  },
  {
   "cell_type": "code",
   "execution_count": 29,
   "metadata": {},
   "outputs": [
    {
     "data": {
      "image/png": "[encoded data removed]",
      "text/plain": [
       "<Figure size 576x576 with 1 Axes>"
      ]
     },
     "metadata": {},
     "output_type": "display_data"
    }
   ],
   "source": [
    "import matplotlib.pyplot as plt\n",
    "f, ax = plt.subplots(figsize=(8, 8))\n",
    "\n",
    "sns.set(style=\"ticks\")\n",
    "sns.despine()\n",
    "\n",
    "plt.plot(y, x)\n",
    "\n",
    "plt.xticks(np.linspace(0, 40, 21, endpoint=True))\n",
    "plt.yticks(np.linspace(0, 1, 21, endpoint=True))\n",
    "plt.axis([0,40,0,1])\n",
    "\n",
    "plt.xlabel('Dimensão',fontsize = 15)\n",
    "plt.ylabel('Variância nos dados',fontsize = 15)\n",
    "\n",
    "\n",
    "plt.savefig('PCA_dados', format='png')\n",
    "plt.show()           # <-- mostra o gráfico"
   ]
  },
  {
   "cell_type": "code",
   "execution_count": 9,
   "metadata": {},
   "outputs": [
    {
     "data": {
      "text/plain": [
       "5"
      ]
     },
     "execution_count": 9,
     "metadata": {},
     "output_type": "execute_result"
    }
   ],
   "source": [
    "d = np.argmax(cumsum>=0.99)+1\n",
    "d"
   ]
  },
  {
   "cell_type": "code",
   "execution_count": 33,
   "metadata": {},
   "outputs": [],
   "source": [
    "pca = KernelPCA(n_components=6)"
   ]
  },
  {
   "cell_type": "code",
   "execution_count": 34,
   "metadata": {},
   "outputs": [
    {
     "data": {
      "text/plain": [
       "(17231, 6)"
      ]
     },
     "execution_count": 34,
     "metadata": {},
     "output_type": "execute_result"
    }
   ],
   "source": [
    "X_treino_reduzido = pca.fit_transform(X_treino)\n",
    "X_treino_reduzido.shape"
   ]
  },
  {
   "cell_type": "code",
   "execution_count": 35,
   "metadata": {},
   "outputs": [
    {
     "data": {
      "text/plain": [
       "(4308, 6)"
      ]
     },
     "execution_count": 35,
     "metadata": {},
     "output_type": "execute_result"
    }
   ],
   "source": [
    "X_teste_reduzido = pca.fit_transform(X_teste)\n",
    "X_teste_reduzido.shape"
   ]
  },
  {
   "cell_type": "code",
   "execution_count": null,
   "metadata": {},
   "outputs": [],
   "source": []
  },
  {
   "cell_type": "code",
   "execution_count": 36,
   "metadata": {},
   "outputs": [
    {
     "data": {
      "text/plain": [
       "LinearRegression(copy_X=True, fit_intercept=True, n_jobs=None, normalize=False)"
      ]
     },
     "execution_count": 36,
     "metadata": {},
     "output_type": "execute_result"
    }
   ],
   "source": [
    "lin_reg = LinearRegression(copy_X=True, fit_intercept=True, n_jobs=None, normalize=False)\n",
    "lin_reg.fit(X_treino_reduzido,Y_treino)"
   ]
  },
  {
   "cell_type": "code",
   "execution_count": 37,
   "metadata": {},
   "outputs": [],
   "source": [
    "# print('\\n Termo independente no modelo linear: \\n', lin_reg.intercept_,' \\n Coeficientes estimados para o problema de regressão linear: \\n ', lin_reg.coef_)"
   ]
  },
  {
   "cell_type": "code",
   "execution_count": 38,
   "metadata": {},
   "outputs": [
    {
     "data": {
      "text/plain": [
       "0.39660623895575764"
      ]
     },
     "execution_count": 38,
     "metadata": {},
     "output_type": "execute_result"
    }
   ],
   "source": [
    "lin_reg.score(X_teste_reduzido,Y_teste)"
   ]
  },
  {
   "cell_type": "code",
   "execution_count": 39,
   "metadata": {},
   "outputs": [
    {
     "data": {
      "text/plain": [
       "26.505121321289018"
      ]
     },
     "execution_count": 39,
     "metadata": {},
     "output_type": "execute_result"
    }
   ],
   "source": [
    "np.sqrt(mean_squared_error(lin_reg.predict(X_teste_reduzido),Y_teste))"
   ]
  },
  {
   "cell_type": "code",
   "execution_count": 40,
   "metadata": {},
   "outputs": [],
   "source": [
    "ver_grau =[]\n",
    "ver_resultado =[]\n",
    "\n",
    "for grau in range(2,5):\n",
    "\n",
    "    poly = PolynomialFeatures(degree=grau)\n",
    "    lin_reg = LinearRegression()\n",
    "    X_poly = poly.fit_transform(X_treino_reduzido)\n",
    "    lin_reg.fit(X_poly,Y_treino)\n",
    "    x =  r2_score(Y_teste, lin_reg.predict(poly.fit_transform(X_teste_reduzido)))\n",
    "\n",
    "\n",
    "    ver_grau.append(grau)\n",
    "    ver_resultado.append(x)"
   ]
  },
  {
   "cell_type": "code",
   "execution_count": 41,
   "metadata": {},
   "outputs": [
    {
     "data": {
      "text/plain": [
       "[2, 3, 4]"
      ]
     },
     "execution_count": 41,
     "metadata": {},
     "output_type": "execute_result"
    }
   ],
   "source": [
    "ver_grau"
   ]
  },
  {
   "cell_type": "code",
   "execution_count": 42,
   "metadata": {},
   "outputs": [
    {
     "data": {
      "text/plain": [
       "[0.47748432352733516, 0.4461435904419597, -0.3733834318480467]"
      ]
     },
     "execution_count": 42,
     "metadata": {},
     "output_type": "execute_result"
    }
   ],
   "source": [
    "ver_resultado"
   ]
  },
  {
   "cell_type": "code",
   "execution_count": null,
   "metadata": {},
   "outputs": [],
   "source": []
  }
 ],
 "metadata": {
  "kernelspec": {
   "display_name": "Python 3",
   "language": "python",
   "name": "python3"
  },
  "language_info": {
   "codemirror_mode": {
    "name": "ipython",
    "version": 3
   },
   "file_extension": ".py",
   "mimetype": "text/x-python",
   "name": "python",
   "nbconvert_exporter": "python",
   "pygments_lexer": "ipython3",
   "version": "3.7.4"
  }
 },
 "nbformat": 4,
 "nbformat_minor": 4
}
