{
 "cells": [
  {
   "cell_type": "code",
   "execution_count": null,
   "metadata": {},
   "outputs": [],
   "source": [
    "###   Importação de bibliotecas   ###"
   ]
  },
  {
   "cell_type": "code",
   "execution_count": 29,
   "metadata": {},
   "outputs": [],
   "source": [
    "import TCC_supercon_dados as tsd\n",
    "import TCC_supercon_funcoes_apoio_ML as tsf\n",
    "import numpy as np\n",
    "from sklearn.metrics import mean_squared_error, r2_score\n",
    "import pandas as pd\n",
    "from sklearn.ensemble import RandomForestRegressor\n",
    "from sklearn.ensemble import ExtraTreesRegressor\n",
    "import seaborn as sns"
   ]
  },
  {
   "cell_type": "code",
   "execution_count": null,
   "metadata": {},
   "outputs": [],
   "source": [
    "### Divisão dos dados que serão usados em um processão de validação cruzada para obtenção de melhores parâmetros  ###"
   ]
  },
  {
   "cell_type": "code",
   "execution_count": 4,
   "metadata": {},
   "outputs": [],
   "source": [
    "X_treino, X_teste, Y_treino, Y_teste = tsf.divisao_dados_treinamento(0.2,tsd.X_modelagem,tsd.Y_modelagem)"
   ]
  },
  {
   "cell_type": "code",
   "execution_count": null,
   "metadata": {},
   "outputs": [],
   "source": [
    "###   Processo de validação cruzada visando a obtenção de melhores parâmetros   ###\n",
    "###   O processo trabalha sobre as funções criadas no arquivo TCC_supercon_funcoes_apoio_M   ###"
   ]
  },
  {
   "cell_type": "code",
   "execution_count": 4,
   "metadata": {},
   "outputs": [],
   "source": [
    "###   Chamando a classe para o processo   ###\n",
    "\n",
    "reg_efloa = ExtraTreesRegressor(max_features=None)"
   ]
  },
  {
   "cell_type": "code",
   "execution_count": 8,
   "metadata": {},
   "outputs": [],
   "source": [
    "###   Parâmetros a serem avalizados   ###\n",
    "\n",
    "\n",
    "parametros = {'n_estimators' : np.arange(100,1100,100), 'max_depth': np.arange(10,100,10), 'min_samples_split': np.arange(5,15,2),\n",
    "             'min_samples_leaf':np.arange(2,12,2)}"
   ]
  },
  {
   "cell_type": "code",
   "execution_count": null,
   "metadata": {},
   "outputs": [],
   "source": [
    "### Processo de validação cruzada (busca de parâmetros)   ###\n",
    "\n",
    "resultados_analise_parametros = tsf.obter_parametros(reg_efloa, parametros, X_treino,Y_treino)"
   ]
  },
  {
   "cell_type": "code",
   "execution_count": null,
   "metadata": {},
   "outputs": [],
   "source": [
    "###    Imprime a classe do modelo com os melhores parâmetros calculados   ###\n",
    "\n",
    "resultados_analise_parametros.best_estimator_"
   ]
  },
  {
   "cell_type": "code",
   "execution_count": 6,
   "metadata": {},
   "outputs": [],
   "source": [
    "###   resultados_analise_parametros.best_estimator_   ###\n",
    "\n",
    "#ExtraTreesRegressor(bootstrap=False, criterion='mse', max_depth=20,\n",
    "                    max_features=None, max_leaf_nodes=None,\n",
    "                    min_impurity_decrease=0.0, min_impurity_split=None,\n",
    "                    min_samples_leaf=2, min_samples_split=5,\n",
    "                    min_weight_fraction_leaf=0.0, n_estimators=500, n_jobs=None,\n",
    "                    oob_score=False, random_state=None, verbose=0,\n",
    "                    warm_start=False)"
   ]
  },
  {
   "cell_type": "code",
   "execution_count": null,
   "metadata": {},
   "outputs": [],
   "source": [
    "###   Processo de validação cruzada visando a obtenção de melhores parâmetros 2   ###\n",
    "###   O processo trabalha sobre as funções criadas no arquivo TCC_supercon_funcoes_apoio_M   ###"
   ]
  },
  {
   "cell_type": "code",
   "execution_count": 13,
   "metadata": {},
   "outputs": [],
   "source": [
    "parametros_2 = {'n_estimators' : np.arange(450,600,50), 'max_depth': np.arange(15,30,5), 'min_samples_split': [4,5,6],\n",
    "             'min_samples_leaf':[2,3]}"
   ]
  },
  {
   "cell_type": "code",
   "execution_count": 14,
   "metadata": {},
   "outputs": [],
   "source": [
    "reg_efloa_2 = ExtraTreesRegressor(max_features=None)"
   ]
  },
  {
   "cell_type": "code",
   "execution_count": 15,
   "metadata": {},
   "outputs": [],
   "source": [
    "resultados_analise_parametros2 = tsf.obter_parametros(reg_efloa_2, parametros_2, X_treino,Y_treino)"
   ]
  },
  {
   "cell_type": "code",
   "execution_count": 16,
   "metadata": {},
   "outputs": [
    {
     "data": {
      "text/plain": [
       "ExtraTreesRegressor(bootstrap=False, criterion='mse', max_depth=20,\n",
       "                    max_features=None, max_leaf_nodes=None,\n",
       "                    min_impurity_decrease=0.0, min_impurity_split=None,\n",
       "                    min_samples_leaf=2, min_samples_split=4,\n",
       "                    min_weight_fraction_leaf=0.0, n_estimators=450, n_jobs=None,\n",
       "                    oob_score=False, random_state=None, verbose=0,\n",
       "                    warm_start=False)"
      ]
     },
     "execution_count": 16,
     "metadata": {},
     "output_type": "execute_result"
    }
   ],
   "source": [
    "# resultados_analise_parametros2.best_estimator_\n",
    "\n",
    "ExtraTreesRegressor(bootstrap=False, criterion='mse', max_depth=20,\n",
    "                    max_features=None, max_leaf_nodes=None,\n",
    "                    min_impurity_decrease=0.0, min_impurity_split=None,\n",
    "                    min_samples_leaf=2, min_samples_split=4,\n",
    "                    min_weight_fraction_leaf=0.0, n_estimators=450, n_jobs=None,\n",
    "                    oob_score=False, random_state=None, verbose=0,\n",
    "                    warm_start=False)"
   ]
  },
  {
   "cell_type": "code",
   "execution_count": 9,
   "metadata": {},
   "outputs": [],
   "source": [
    "treino2 = ExtraTreesRegressor(bootstrap=False, criterion='mse', max_depth=20,\n",
    "                    max_features=None, max_leaf_nodes=None,\n",
    "                    min_impurity_decrease=0.0, min_impurity_split=None,\n",
    "                    min_samples_leaf=2, min_samples_split=4,\n",
    "                    min_weight_fraction_leaf=0.0, n_estimators=450, n_jobs=None,\n",
    "                    oob_score=False, random_state=None, verbose=0,\n",
    "                    warm_start=False)"
   ]
  },
  {
   "cell_type": "code",
   "execution_count": 10,
   "metadata": {},
   "outputs": [
    {
     "data": {
      "text/plain": [
       "ExtraTreesRegressor(bootstrap=False, criterion='mse', max_depth=20,\n",
       "                    max_features=None, max_leaf_nodes=None,\n",
       "                    min_impurity_decrease=0.0, min_impurity_split=None,\n",
       "                    min_samples_leaf=2, min_samples_split=4,\n",
       "                    min_weight_fraction_leaf=0.0, n_estimators=450, n_jobs=None,\n",
       "                    oob_score=False, random_state=None, verbose=0,\n",
       "                    warm_start=False)"
      ]
     },
     "execution_count": 10,
     "metadata": {},
     "output_type": "execute_result"
    }
   ],
   "source": [
    "treino2.fit(X_treino,Y_treino)"
   ]
  },
  {
   "cell_type": "code",
   "execution_count": 11,
   "metadata": {},
   "outputs": [
    {
     "name": "stdout",
     "output_type": "stream",
     "text": [
      "\n",
      " R^2: \n",
      " 0.9792857898225724 \n",
      " RMSE : \n",
      " 4.9234383548654215\n"
     ]
    }
   ],
   "source": [
    "###   Imprime o resultado dos os dados treinados   ###\n",
    "\n",
    "print('\\n R^2: \\n', treino2.score(X_treino,Y_treino), '\\n RMSE : \\n',np.sqrt(mean_squared_error(treino2.predict(X_treino),Y_treino)))"
   ]
  },
  {
   "cell_type": "code",
   "execution_count": 12,
   "metadata": {},
   "outputs": [
    {
     "name": "stdout",
     "output_type": "stream",
     "text": [
      "\n",
      " R^2: \n",
      " 0.9353268202794203 \n",
      " RMSE : \n",
      " 8.677437529150188\n"
     ]
    }
   ],
   "source": [
    "###   Imprime o resultado dos dados nunca treinados   ###\n",
    "\n",
    "print('\\n R^2: \\n', treino2.score(X_teste,Y_teste), '\\n RMSE : \\n',np.sqrt(mean_squared_error(treino2.predict(X_teste),Y_teste)))"
   ]
  },
  {
   "cell_type": "code",
   "execution_count": null,
   "metadata": {},
   "outputs": [],
   "source": [
    "###   Processo de validação cruzada visando a obtenção de melhores parâmetros 3   ###\n",
    "###   O processo trabalha sobre as funções criadas no arquivo TCC_supercon_funcoes_apoio_M   ###"
   ]
  },
  {
   "cell_type": "code",
   "execution_count": 5,
   "metadata": {},
   "outputs": [],
   "source": [
    "parametros_3 = {'n_estimators' : [375,450,475], 'max_depth': [20], 'min_samples_split': [2,4,5],\n",
    "             'min_samples_leaf':[2,3,4]}"
   ]
  },
  {
   "cell_type": "code",
   "execution_count": 6,
   "metadata": {},
   "outputs": [],
   "source": [
    "reg_efloa_3 = ExtraTreesRegressor(max_features=None)"
   ]
  },
  {
   "cell_type": "code",
   "execution_count": 7,
   "metadata": {},
   "outputs": [],
   "source": [
    "resultados_analise_parametros3 = tsf.obter_parametros(reg_efloa_3, parametros_3, X_treino,Y_treino)"
   ]
  },
  {
   "cell_type": "code",
   "execution_count": 8,
   "metadata": {},
   "outputs": [
    {
     "data": {
      "text/plain": [
       "ExtraTreesRegressor(bootstrap=False, criterion='mse', max_depth=20,\n",
       "                    max_features=None, max_leaf_nodes=None,\n",
       "                    min_impurity_decrease=0.0, min_impurity_split=None,\n",
       "                    min_samples_leaf=2, min_samples_split=4,\n",
       "                    min_weight_fraction_leaf=0.0, n_estimators=475, n_jobs=None,\n",
       "                    oob_score=False, random_state=None, verbose=0,\n",
       "                    warm_start=False)"
      ]
     },
     "execution_count": 8,
     "metadata": {},
     "output_type": "execute_result"
    }
   ],
   "source": [
    "resultados_analise_parametros3.best_estimator_"
   ]
  },
  {
   "cell_type": "code",
   "execution_count": 13,
   "metadata": {},
   "outputs": [
    {
     "data": {
      "text/plain": [
       "ExtraTreesRegressor(bootstrap=False, criterion='mse', max_depth=20,\n",
       "                    max_features=None, max_leaf_nodes=None,\n",
       "                    min_impurity_decrease=0.0, min_impurity_split=None,\n",
       "                    min_samples_leaf=2, min_samples_split=4,\n",
       "                    min_weight_fraction_leaf=0.0, n_estimators=475, n_jobs=None,\n",
       "                    oob_score=False, random_state=None, verbose=0,\n",
       "                    warm_start=False)"
      ]
     },
     "execution_count": 13,
     "metadata": {},
     "output_type": "execute_result"
    }
   ],
   "source": [
    "treino3=resultados_analise_parametros3.best_estimator_\n",
    "treino3.fit(X_treino,Y_treino)"
   ]
  },
  {
   "cell_type": "code",
   "execution_count": 14,
   "metadata": {},
   "outputs": [
    {
     "name": "stdout",
     "output_type": "stream",
     "text": [
      "\n",
      " R^2: \n",
      " 0.9793572213422427 \n",
      " RMSE : \n",
      " 4.9149419555797165\n"
     ]
    }
   ],
   "source": [
    "###   Imprime o resultado dos dados treinados   ###\n",
    "\n",
    "print('\\n R^2: \\n', treino3.score(X_treino,Y_treino), '\\n RMSE : \\n',np.sqrt(mean_squared_error(treino3.predict(X_treino),Y_treino)))"
   ]
  },
  {
   "cell_type": "code",
   "execution_count": 15,
   "metadata": {},
   "outputs": [
    {
     "name": "stdout",
     "output_type": "stream",
     "text": [
      "\n",
      " R^2: \n",
      " 0.9349073758840161 \n",
      " RMSE : \n",
      " 8.705531247440097\n"
     ]
    }
   ],
   "source": [
    "###   Imprime o resultado dos dados nunca treinados   ###\n",
    "\n",
    "print('\\n R^2: \\n', treino3.score(X_teste,Y_teste), '\\n RMSE : \\n',np.sqrt(mean_squared_error(treino3.predict(X_teste),Y_teste)))"
   ]
  },
  {
   "cell_type": "code",
   "execution_count": 17,
   "metadata": {},
   "outputs": [
    {
     "data": {
      "image/png": "[encoded data removed]",
      "text/plain": [
       "<Figure size 360x360 with 1 Axes>"
      ]
     },
     "metadata": {
      "needs_background": "light"
     },
     "output_type": "display_data"
    }
   ],
   "source": [
    "###   Visualização dos resultados de treinamento sobre dados nunca treinados pelo modelo   ###\n",
    "\n",
    "import matplotlib.pyplot as plt\n",
    "\n",
    "print_x = Y_teste\n",
    "print_y = treino3.predict(X_teste)\n",
    "\n",
    "f, ax = plt.subplots(figsize=(5, 5))\n",
    "plt.title('Tc prevista pelo modelo vs. Tc medida em laboratório')\n",
    "\n",
    "plt.xlabel('Temperatura crítica medida (K)')\n",
    "plt.ylabel('Temperatura crítica prevista (K)')\n",
    "plt.legend('Previsão')\n",
    "plt.plot(print_x,print_y, 'b.',label = 'Previsão')\n",
    "plt.plot(print_x,print_x, 'r-', label = 'Curva Ideal')\n",
    "plt.legend()\n",
    "\n",
    "plt.axis([-10,150,-10,150])\n",
    "\n",
    "plt.show()"
   ]
  }
 ],
 "metadata": {
  "kernelspec": {
   "display_name": "Python 3",
   "language": "python",
   "name": "python3"
  },
  "language_info": {
   "codemirror_mode": {
    "name": "ipython",
    "version": 3
   },
   "file_extension": ".py",
   "mimetype": "text/x-python",
   "name": "python",
   "nbconvert_exporter": "python",
   "pygments_lexer": "ipython3",
   "version": "3.7.4"
  }
 },
 "nbformat": 4,
 "nbformat_minor": 4
}
