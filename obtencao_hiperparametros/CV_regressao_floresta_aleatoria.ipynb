{
 "cells": [
  {
   "cell_type": "code",
   "execution_count": null,
   "metadata": {},
   "outputs": [],
   "source": [
    "###   Importação de bibliotecas   ###"
   ]
  },
  {
   "cell_type": "code",
   "execution_count": 1,
   "metadata": {
    "colab": {},
    "colab_type": "code",
    "id": "ZsMz_820Xjer"
   },
   "outputs": [],
   "source": [
    "import TCC_supercon_dados as tsd\n",
    "import TCC_supercon_funcoes_apoio_ML as tsf\n",
    "import numpy as np\n",
    "from sklearn.metrics import mean_squared_error, r2_score\n",
    "import pandas as pd\n",
    "from sklearn.ensemble import RandomForestRegressor\n",
    "from sklearn.ensemble import ExtraTreesRegressor"
   ]
  },
  {
   "cell_type": "code",
   "execution_count": null,
   "metadata": {},
   "outputs": [],
   "source": [
    "### Divisão dos dados que serão usados em um processão de validação cruzada para obtenção de melhores parâmetros  ###"
   ]
  },
  {
   "cell_type": "code",
   "execution_count": 2,
   "metadata": {
    "colab": {},
    "colab_type": "code",
    "id": "AXkgxxe9Xjev"
   },
   "outputs": [],
   "source": [
    "X_treino, X_teste, Y_treino, Y_teste = tsf.divisao_dados_treinamento(0.2,tsd.X_modelagem,tsd.Y_modelagem)"
   ]
  },
  {
   "cell_type": "code",
   "execution_count": null,
   "metadata": {},
   "outputs": [],
   "source": [
    "###   Processo de validação cruzada visando a obtenção de melhores parâmetros   ###\n",
    "###   O processo trabalha sobre as funções criadas no arquivo TCC_supercon_funcoes_apoio_M   ###"
   ]
  },
  {
   "cell_type": "code",
   "execution_count": 8,
   "metadata": {
    "colab": {},
    "colab_type": "code",
    "id": "4SR6XNTSXjex"
   },
   "outputs": [],
   "source": [
    "###   Chamando a classe para o processo   ###\n",
    "\n",
    "reg_floa = RandomForestRegressor(max_features=None)"
   ]
  },
  {
   "cell_type": "code",
   "execution_count": 9,
   "metadata": {
    "colab": {},
    "colab_type": "code",
    "id": "WzEXpR9ZXjey"
   },
   "outputs": [],
   "source": [
    "###   Parâmetros a serem avalizados   ###\n",
    "\n",
    "parametros = {'n_estimators' : [500,600,700], 'max_depth': [10,20,40,60], 'min_samples_split':[4,5,7,9],\n",
    "             'min_samples_leaf':[2,4,5,6]}"
   ]
  },
  {
   "cell_type": "code",
   "execution_count": 11,
   "metadata": {
    "colab": {},
    "colab_type": "code",
    "id": "uFMsLnVRXje0"
   },
   "outputs": [],
   "source": [
    "resultados_analise_parametros = tsf.obter_parametros(reg_floa, parametros, X_treino,Y_treino)"
   ]
  },
  {
   "cell_type": "code",
   "execution_count": 12,
   "metadata": {},
   "outputs": [
    {
     "data": {
      "text/plain": [
       "RandomForestRegressor(bootstrap=True, criterion='mse', max_depth=20,\n",
       "                      max_features=None, max_leaf_nodes=None,\n",
       "                      min_impurity_decrease=0.0, min_impurity_split=None,\n",
       "                      min_samples_leaf=2, min_samples_split=4,\n",
       "                      min_weight_fraction_leaf=0.0, n_estimators=600,\n",
       "                      n_jobs=None, oob_score=False, random_state=None,\n",
       "                      verbose=0, warm_start=False)"
      ]
     },
     "execution_count": 12,
     "metadata": {},
     "output_type": "execute_result"
    }
   ],
   "source": [
    "###   Imprime o resultado dos os dados treinados   ###\n",
    "\n",
    "resultados_analise_parametros.best_estimator_"
   ]
  },
  {
   "cell_type": "code",
   "execution_count": 13,
   "metadata": {},
   "outputs": [
    {
     "data": {
      "text/plain": [
       "RandomForestRegressor(bootstrap=True, criterion='mse', max_depth=20,\n",
       "                      max_features=None, max_leaf_nodes=None,\n",
       "                      min_impurity_decrease=0.0, min_impurity_split=None,\n",
       "                      min_samples_leaf=2, min_samples_split=4,\n",
       "                      min_weight_fraction_leaf=0.0, n_estimators=600,\n",
       "                      n_jobs=None, oob_score=False, random_state=None,\n",
       "                      verbose=0, warm_start=False)"
      ]
     },
     "execution_count": 13,
     "metadata": {},
     "output_type": "execute_result"
    }
   ],
   "source": [
    "###   Treina o modelo com os melhores prâmetros   ###\n",
    "\n",
    "reg_floa = resultados_analise_parametros.best_estimator_\n",
    "reg_floa.fit(X_treino,Y_treino)"
   ]
  },
  {
   "cell_type": "code",
   "execution_count": 14,
   "metadata": {},
   "outputs": [
    {
     "name": "stdout",
     "output_type": "stream",
     "text": [
      "\n",
      " R^2: \n",
      " 0.9738380127072168 \n",
      " RMSE : \n",
      " 5.533114794453279\n"
     ]
    }
   ],
   "source": [
    "###   Imprime o resultado dos os dados treinados   ###\n",
    "\n",
    "print('\\n R^2: \\n', reg_floa.score(X_treino,Y_treino), '\\n RMSE : \\n',np.sqrt(mean_squared_error(reg_floa.predict(X_treino),Y_treino)))"
   ]
  },
  {
   "cell_type": "code",
   "execution_count": 15,
   "metadata": {},
   "outputs": [
    {
     "name": "stdout",
     "output_type": "stream",
     "text": [
      "\n",
      " R^2: \n",
      " 0.9309730093939738 \n",
      " RMSE : \n",
      " 8.964763948613736\n"
     ]
    }
   ],
   "source": [
    "###   Imprime o resultado sobre dados nunca treinados   ###\n",
    "\n",
    "print('\\n R^2: \\n', reg_floa.score(X_teste,Y_teste), '\\n RMSE : \\n',np.sqrt(mean_squared_error(reg_floa.predict(X_teste),Y_teste)))"
   ]
  },
  {
   "cell_type": "code",
   "execution_count": null,
   "metadata": {},
   "outputs": [],
   "source": [
    "###   Processo de validação cruzada visando a obtenção de melhores parâmetros 2   ###\n",
    "###   O processo trabalha sobre as funções criadas no arquivo TCC_supercon_funcoes_apoio_M   ###"
   ]
  },
  {
   "cell_type": "code",
   "execution_count": 16,
   "metadata": {},
   "outputs": [],
   "source": [
    "###   Parâmetros a serem avalizados   ###\n",
    "\n",
    "parametros2 = {'n_estimators' : [550,600,650], 'max_depth': [20,25,30], 'min_samples_split':[3,4],\n",
    "             'min_samples_leaf':[2]}"
   ]
  },
  {
   "cell_type": "code",
   "execution_count": 17,
   "metadata": {},
   "outputs": [],
   "source": [
    "reg_floa2 = RandomForestRegressor(max_features=None)"
   ]
  },
  {
   "cell_type": "code",
   "execution_count": 18,
   "metadata": {},
   "outputs": [],
   "source": [
    "resultados_analise_parametros2 = tsf.obter_parametros(reg_floa2, parametros2, X_treino,Y_treino)"
   ]
  },
  {
   "cell_type": "code",
   "execution_count": 19,
   "metadata": {},
   "outputs": [
    {
     "data": {
      "text/plain": [
       "RandomForestRegressor(bootstrap=True, criterion='mse', max_depth=20,\n",
       "                      max_features=None, max_leaf_nodes=None,\n",
       "                      min_impurity_decrease=0.0, min_impurity_split=None,\n",
       "                      min_samples_leaf=2, min_samples_split=3,\n",
       "                      min_weight_fraction_leaf=0.0, n_estimators=600,\n",
       "                      n_jobs=None, oob_score=False, random_state=None,\n",
       "                      verbose=0, warm_start=False)"
      ]
     },
     "execution_count": 19,
     "metadata": {},
     "output_type": "execute_result"
    }
   ],
   "source": [
    "treino2=resultados_analise_parametros2.best_estimator_\n",
    "treino2.fit(X_treino,Y_treino)"
   ]
  },
  {
   "cell_type": "code",
   "execution_count": 20,
   "metadata": {},
   "outputs": [
    {
     "name": "stdout",
     "output_type": "stream",
     "text": [
      "\n",
      " R^2: \n",
      " 0.9737914724091341 \n",
      " RMSE : \n",
      " 5.538034114735175\n"
     ]
    }
   ],
   "source": [
    "###   Imprime o resultado dos dados treinados   ###\n",
    "\n",
    "print('\\n R^2: \\n', treino2.score(X_treino,Y_treino), '\\n RMSE : \\n',np.sqrt(mean_squared_error(treino2.predict(X_treino),Y_treino)))"
   ]
  },
  {
   "cell_type": "code",
   "execution_count": 21,
   "metadata": {},
   "outputs": [
    {
     "name": "stdout",
     "output_type": "stream",
     "text": [
      "\n",
      " R^2: \n",
      " 0.9311158979089726 \n",
      " RMSE : \n",
      " 8.955480439411767\n"
     ]
    }
   ],
   "source": [
    "###   Imprime o resultado dos dados nunca treinados   ###\n",
    "\n",
    "print('\\n R^2: \\n', treino2.score(X_teste,Y_teste), '\\n RMSE : \\n',np.sqrt(mean_squared_error(treino2.predict(X_teste),Y_teste)))"
   ]
  },
  {
   "cell_type": "code",
   "execution_count": 22,
   "metadata": {},
   "outputs": [],
   "source": [
    "###   Processo de validação cruzada visando a obtenção de melhores parâmetros 3   ###\n",
    "###   O processo trabalha sobre as funções criadas no arquivo TCC_supercon_funcoes_apoio_M   ###"
   ]
  },
  {
   "cell_type": "code",
   "execution_count": 23,
   "metadata": {},
   "outputs": [],
   "source": [
    "reg_floa3 = RandomForestRegressor(max_features=None)"
   ]
  },
  {
   "cell_type": "code",
   "execution_count": 24,
   "metadata": {},
   "outputs": [],
   "source": [
    "###   Parâmetros a serem avalizados   ###\n",
    "\n",
    "parametros3 = {'n_estimators' : [300,600,625,800], 'max_depth': [18,20], 'min_samples_split':[3],\n",
    "             'min_samples_leaf':[2]}"
   ]
  },
  {
   "cell_type": "code",
   "execution_count": 25,
   "metadata": {},
   "outputs": [],
   "source": [
    "resultados_analise_parametros3 = tsf.obter_parametros(reg_floa3, parametros3, X_treino,Y_treino)"
   ]
  },
  {
   "cell_type": "code",
   "execution_count": 26,
   "metadata": {},
   "outputs": [
    {
     "data": {
      "text/plain": [
       "RandomForestRegressor(bootstrap=True, criterion='mse', max_depth=20,\n",
       "                      max_features=None, max_leaf_nodes=None,\n",
       "                      min_impurity_decrease=0.0, min_impurity_split=None,\n",
       "                      min_samples_leaf=2, min_samples_split=3,\n",
       "                      min_weight_fraction_leaf=0.0, n_estimators=800,\n",
       "                      n_jobs=None, oob_score=False, random_state=None,\n",
       "                      verbose=0, warm_start=False)"
      ]
     },
     "execution_count": 26,
     "metadata": {},
     "output_type": "execute_result"
    }
   ],
   "source": [
    "treino3=resultados_analise_parametros3.best_estimator_\n",
    "treino3.fit(X_treino,Y_treino)"
   ]
  },
  {
   "cell_type": "code",
   "execution_count": 29,
   "metadata": {},
   "outputs": [
    {
     "name": "stdout",
     "output_type": "stream",
     "text": [
      "\n",
      " R^2: \n",
      " 0.9737570873349902 \n",
      " RMSE : \n",
      " 5.541665820011726\n"
     ]
    }
   ],
   "source": [
    "###   Imprime o resultado dos dados treinados   ###\n",
    "\n",
    "print('\\n R^2: \\n', treino3.score(X_treino,Y_treino), '\\n RMSE : \\n',np.sqrt(mean_squared_error(treino3.predict(X_treino),Y_treino)))"
   ]
  },
  {
   "cell_type": "code",
   "execution_count": 30,
   "metadata": {},
   "outputs": [
    {
     "name": "stdout",
     "output_type": "stream",
     "text": [
      "\n",
      " R^2: \n",
      " 0.9311916785456755 \n",
      " RMSE : \n",
      " 8.950553041499006\n"
     ]
    }
   ],
   "source": [
    "###   Imprime o resultado dos dados nunca treinados   ###\n",
    "\n",
    "print('\\n R^2: \\n', treino3.score(X_teste,Y_teste), '\\n RMSE : \\n',np.sqrt(mean_squared_error(treino3.predict(X_teste),Y_teste)))"
   ]
  },
  {
   "cell_type": "code",
   "execution_count": 31,
   "metadata": {},
   "outputs": [],
   "source": [
    "###   Processo de validação cruzada visando a obtenção de melhores parâmetros 4   ###\n",
    "###   O processo trabalha sobre as funções criadas no arquivo TCC_supercon_funcoes_apoio_M   ###"
   ]
  },
  {
   "cell_type": "code",
   "execution_count": 32,
   "metadata": {},
   "outputs": [],
   "source": [
    "parametros4 = {'n_estimators' : [600,650,700,750,800,850], 'max_depth': [20], 'min_samples_split':[3],\n",
    "             'min_samples_leaf':[2]}"
   ]
  },
  {
   "cell_type": "code",
   "execution_count": 33,
   "metadata": {},
   "outputs": [],
   "source": [
    "reg_floa4 = RandomForestRegressor(max_features=None)"
   ]
  },
  {
   "cell_type": "code",
   "execution_count": 34,
   "metadata": {},
   "outputs": [],
   "source": [
    "resultados_analise_parametros4 = tsf.obter_parametros(reg_floa4, parametros4, X_treino,Y_treino)"
   ]
  },
  {
   "cell_type": "code",
   "execution_count": 35,
   "metadata": {},
   "outputs": [
    {
     "data": {
      "text/plain": [
       "RandomForestRegressor(bootstrap=True, criterion='mse', max_depth=20,\n",
       "                      max_features=None, max_leaf_nodes=None,\n",
       "                      min_impurity_decrease=0.0, min_impurity_split=None,\n",
       "                      min_samples_leaf=2, min_samples_split=3,\n",
       "                      min_weight_fraction_leaf=0.0, n_estimators=800,\n",
       "                      n_jobs=None, oob_score=False, random_state=None,\n",
       "                      verbose=0, warm_start=False)"
      ]
     },
     "execution_count": 35,
     "metadata": {},
     "output_type": "execute_result"
    }
   ],
   "source": [
    "treino4=resultados_analise_parametros4.best_estimator_\n",
    "treino4.fit(X_treino,Y_treino)"
   ]
  },
  {
   "cell_type": "code",
   "execution_count": 36,
   "metadata": {},
   "outputs": [
    {
     "name": "stdout",
     "output_type": "stream",
     "text": [
      "\n",
      " R^2: \n",
      " 0.9738877545151801 \n",
      " RMSE : \n",
      " 5.5278522339801315\n"
     ]
    }
   ],
   "source": [
    "###   Imprime o resultado dos dados treinados   ###\n",
    "\n",
    "print('\\n R^2: \\n', treino4.score(X_treino,Y_treino), '\\n RMSE : \\n',np.sqrt(mean_squared_error(treino4.predict(X_treino),Y_treino)))"
   ]
  },
  {
   "cell_type": "code",
   "execution_count": 37,
   "metadata": {},
   "outputs": [
    {
     "name": "stdout",
     "output_type": "stream",
     "text": [
      "\n",
      " R^2: \n",
      " 0.9313370539268344 \n",
      " RMSE : \n",
      " 8.94109286259463\n"
     ]
    }
   ],
   "source": [
    "###   Imprime o resultado dos dados nunca treinados   ###\n",
    "\n",
    "print('\\n R^2: \\n', treino4.score(X_teste,Y_teste), '\\n RMSE : \\n',np.sqrt(mean_squared_error(treino4.predict(X_teste),Y_teste)))"
   ]
  },
  {
   "cell_type": "code",
   "execution_count": 39,
   "metadata": {},
   "outputs": [
    {
     "data": {
      "image/png": "[encoded data removed]",
      "text/plain": [
       "<Figure size 360x360 with 1 Axes>"
      ]
     },
     "metadata": {
      "needs_background": "light"
     },
     "output_type": "display_data"
    }
   ],
   "source": [
    "###   Visualização dos resultados de treinamento sobre dados nunca treinados pelo modelo   ###\n",
    "\n",
    "import matplotlib.pyplot as plt\n",
    "\n",
    "print_x = Y_teste\n",
    "print_y = treino4.predict(X_teste)\n",
    "\n",
    "f, ax = plt.subplots(figsize=(5, 5))\n",
    "plt.title('Tc prevista pelo modelo vs. Tc medida em laboratório')\n",
    "\n",
    "plt.xlabel('Temperatura crítica medida (K)')\n",
    "plt.ylabel('Temperatura crítica prevista (K)')\n",
    "plt.legend('Previsão')\n",
    "plt.plot(print_x,print_y, 'b.',label = 'Previsão')\n",
    "plt.plot(print_x,print_x, 'r-', label = 'Curva Ideal')\n",
    "plt.legend()\n",
    "\n",
    "plt.axis([-10,150,-10,150])\n",
    "\n",
    "plt.show()"
   ]
  },
  {
   "cell_type": "code",
   "execution_count": null,
   "metadata": {},
   "outputs": [],
   "source": [
    "###   Avaliando as principais características do modelo   ###"
   ]
  },
  {
   "cell_type": "code",
   "execution_count": null,
   "metadata": {},
   "outputs": [],
   "source": [
    "###   As 15 principais características do modelo   ###"
   ]
  },
  {
   "cell_type": "code",
   "execution_count": 40,
   "metadata": {},
   "outputs": [
    {
     "data": {
      "text/plain": [
       "array([[2.37413436e-05, 9.43422067e-04, 5.32774709e-03, 1.52704910e-03,\n",
       "        3.48388874e-03, 1.80724619e-03, 3.61832549e-03, 1.55848427e-03,\n",
       "        1.00219542e-02, 1.82661875e-02, 5.29184049e-03, 1.37318799e-03,\n",
       "        2.33386761e-03, 1.23389826e-03, 2.09437279e-03, 1.40624703e-03,\n",
       "        2.91462897e-03, 1.65987660e-03, 7.28259358e-03, 1.17318936e-03,\n",
       "        3.79976084e-03, 1.42854267e-03, 2.82983544e-03, 1.00377553e-03,\n",
       "        1.98889473e-03, 1.61513562e-03, 2.84365871e-03, 7.56035488e-03,\n",
       "        3.63193550e-03, 3.75443286e-03, 4.69764405e-03, 1.07908596e-02,\n",
       "        2.62828310e-03, 7.65639737e-03, 2.49143217e-03, 6.63432502e-03,\n",
       "        6.23226773e-03, 5.60240443e-04, 2.01048149e-03, 1.51125606e-02,\n",
       "        4.01901499e-03, 1.41771280e-03, 3.46673321e-03, 9.63314147e-03,\n",
       "        5.73951046e-03, 1.53892234e-03, 7.59662664e-03, 2.63119312e-03,\n",
       "        4.75549923e-03, 1.67299415e-03, 9.27377686e-03, 1.68806706e-03,\n",
       "        2.37870425e-03, 1.03836958e-03, 2.52994107e-03, 2.81951844e-03,\n",
       "        6.67725513e-03, 3.33964808e-04, 1.90372174e-03, 2.07274086e-03,\n",
       "        3.50508037e-03, 2.19693126e-03, 6.59145851e-03, 1.63674462e-03,\n",
       "        1.23358740e-01, 3.93465233e-03, 1.25570515e-02, 5.42838834e-01,\n",
       "        2.17641246e-03, 1.80156458e-03, 8.16789725e-03, 3.20880336e-04,\n",
       "        1.25529868e-02, 7.15279590e-04, 1.82175549e-02, 9.79068191e-04,\n",
       "        4.07003388e-03, 1.83362307e-04, 8.56311185e-03, 1.33113998e-03,\n",
       "        8.50124043e-03]])"
      ]
     },
     "execution_count": 40,
     "metadata": {},
     "output_type": "execute_result"
    }
   ],
   "source": [
    "np.transpose(treino4.feature_importances_).reshape(1,81)"
   ]
  },
  {
   "cell_type": "code",
   "execution_count": 42,
   "metadata": {},
   "outputs": [],
   "source": [
    "importancia = pd.DataFrame(np.transpose(treino4.feature_importances_),index=X_treino.columns)"
   ]
  },
  {
   "cell_type": "code",
   "execution_count": 43,
   "metadata": {},
   "outputs": [],
   "source": [
    "importancia_ordenada=importancia.sort_values(ascending=False,by=[0])\n",
    "importancia_ordenada_top_15=np.transpose(importancia_ordenada.iloc[0:15,:])"
   ]
  },
  {
   "cell_type": "code",
   "execution_count": 47,
   "metadata": {},
   "outputs": [
    {
     "data": {
      "image/png": "[encoded data removed]",
      "text/plain": [
       "<Figure size 360x360 with 1 Axes>"
      ]
     },
     "metadata": {
      "needs_background": "light"
     },
     "output_type": "display_data"
    }
   ],
   "source": [
    "f, ax = plt.subplots(figsize=(5, 5))\n",
    "plt.barh(importancia_ordenada_top_15.columns, importancia_ordenada_top_15.values[0],color=\"b\")\n",
    "plt.show()"
   ]
  },
  {
   "cell_type": "code",
   "execution_count": 63,
   "metadata": {},
   "outputs": [],
   "source": [
    "X_treino_importancia = X_treino.loc[:,importancia_ordenada_top_15.columns]\n",
    "X_teste_importancia = X_teste.loc[:,importancia_ordenada_top_15.columns]"
   ]
  },
  {
   "cell_type": "code",
   "execution_count": 64,
   "metadata": {},
   "outputs": [],
   "source": [
    "treino_importancia=RandomForestRegressor(bootstrap=True, criterion='mse', max_depth=20,\n",
    "                      max_features=None, max_leaf_nodes=None,\n",
    "                      min_impurity_decrease=0.0, min_impurity_split=None,\n",
    "                      min_samples_leaf=2, min_samples_split=3,\n",
    "                      min_weight_fraction_leaf=0.0, n_estimators=800,\n",
    "                      n_jobs=None, oob_score=False, random_state=None,\n",
    "                      verbose=0, warm_start=False)"
   ]
  },
  {
   "cell_type": "code",
   "execution_count": 65,
   "metadata": {},
   "outputs": [
    {
     "data": {
      "text/plain": [
       "RandomForestRegressor(bootstrap=True, criterion='mse', max_depth=20,\n",
       "                      max_features=None, max_leaf_nodes=None,\n",
       "                      min_impurity_decrease=0.0, min_impurity_split=None,\n",
       "                      min_samples_leaf=2, min_samples_split=3,\n",
       "                      min_weight_fraction_leaf=0.0, n_estimators=800,\n",
       "                      n_jobs=None, oob_score=False, random_state=None,\n",
       "                      verbose=0, warm_start=False)"
      ]
     },
     "execution_count": 65,
     "metadata": {},
     "output_type": "execute_result"
    }
   ],
   "source": [
    "treino_importancia.fit(X_treino_importancia,Y_treino)"
   ]
  },
  {
   "cell_type": "code",
   "execution_count": 66,
   "metadata": {},
   "outputs": [
    {
     "name": "stdout",
     "output_type": "stream",
     "text": [
      "\n",
      " R^2: \n",
      " 0.9710246017422568 \n",
      " RMSE : \n",
      " 5.823029929176292\n"
     ]
    }
   ],
   "source": [
    "###   Imprime o resultado dos dados treinados   ###\n",
    "\n",
    "print('\\n R^2: \\n', treino_importancia.score(X_treino_importancia,Y_treino), '\\n RMSE : \\n',np.sqrt(mean_squared_error(treino_importancia.predict(X_treino_importancia),Y_treino)))"
   ]
  },
  {
   "cell_type": "code",
   "execution_count": 67,
   "metadata": {},
   "outputs": [
    {
     "name": "stdout",
     "output_type": "stream",
     "text": [
      "\n",
      " R^2: \n",
      " 0.9256288524719747 \n",
      " RMSE : \n",
      " 9.30532680126971\n"
     ]
    }
   ],
   "source": [
    "###   Imprime o resultado dos dados treinados   ###\n",
    "\n",
    "print('\\n R^2: \\n', treino_importancia.score(X_teste_importancia,Y_teste), '\\n RMSE : \\n',np.sqrt(mean_squared_error(treino_importancia.predict(X_teste_importancia),Y_teste)))"
   ]
  },
  {
   "cell_type": "code",
   "execution_count": 68,
   "metadata": {},
   "outputs": [],
   "source": [
    "###   As 5 principais características do modelo   ###"
   ]
  },
  {
   "cell_type": "code",
   "execution_count": 69,
   "metadata": {},
   "outputs": [],
   "source": [
    "importancia_ordenada_top_5=np.transpose(importancia_ordenada.iloc[0:5,:])"
   ]
  },
  {
   "cell_type": "code",
   "execution_count": 71,
   "metadata": {},
   "outputs": [
    {
     "data": {
      "image/png": "[encoded data removed]",
      "text/plain": [
       "<Figure size 360x360 with 1 Axes>"
      ]
     },
     "metadata": {
      "needs_background": "light"
     },
     "output_type": "display_data"
    }
   ],
   "source": [
    "f, ax = plt.subplots(figsize=(5, 5))\n",
    "plt.barh(importancia_ordenada_top_5.columns, importancia_ordenada_top_5.values[0],color=\"b\")\n",
    "plt.show()"
   ]
  },
  {
   "cell_type": "code",
   "execution_count": 73,
   "metadata": {},
   "outputs": [],
   "source": [
    "X_treino_importancia_5 = X_treino.loc[:,importancia_ordenada_top_5.columns]\n",
    "X_teste_importancia_5 = X_teste.loc[:,importancia_ordenada_top_5.columns]"
   ]
  },
  {
   "cell_type": "code",
   "execution_count": 74,
   "metadata": {},
   "outputs": [],
   "source": [
    "treino_importancia_5=RandomForestRegressor(bootstrap=True, criterion='mse', max_depth=20,\n",
    "                      max_features=None, max_leaf_nodes=None,\n",
    "                      min_impurity_decrease=0.0, min_impurity_split=None,\n",
    "                      min_samples_leaf=2, min_samples_split=3,\n",
    "                      min_weight_fraction_leaf=0.0, n_estimators=800,\n",
    "                      n_jobs=None, oob_score=False, random_state=None,\n",
    "                      verbose=0, warm_start=False)"
   ]
  },
  {
   "cell_type": "code",
   "execution_count": 75,
   "metadata": {},
   "outputs": [
    {
     "data": {
      "text/plain": [
       "RandomForestRegressor(bootstrap=True, criterion='mse', max_depth=20,\n",
       "                      max_features=None, max_leaf_nodes=None,\n",
       "                      min_impurity_decrease=0.0, min_impurity_split=None,\n",
       "                      min_samples_leaf=2, min_samples_split=3,\n",
       "                      min_weight_fraction_leaf=0.0, n_estimators=800,\n",
       "                      n_jobs=None, oob_score=False, random_state=None,\n",
       "                      verbose=0, warm_start=False)"
      ]
     },
     "execution_count": 75,
     "metadata": {},
     "output_type": "execute_result"
    }
   ],
   "source": [
    "treino_importancia_5.fit(X_treino_importancia_5,Y_treino)"
   ]
  },
  {
   "cell_type": "code",
   "execution_count": 76,
   "metadata": {},
   "outputs": [
    {
     "name": "stdout",
     "output_type": "stream",
     "text": [
      "\n",
      " R^2: \n",
      " 0.963190029874544 \n",
      " RMSE : \n",
      " 6.563221295420171\n"
     ]
    }
   ],
   "source": [
    "###   Imprime o resultado dos dados treinados   ###\n",
    "\n",
    "print('\\n R^2: \\n', treino_importancia_5.score(X_treino_importancia_5,Y_treino), '\\n RMSE : \\n',np.sqrt(mean_squared_error(treino_importancia_5.predict(X_treino_importancia_5),Y_treino)))"
   ]
  },
  {
   "cell_type": "code",
   "execution_count": 77,
   "metadata": {},
   "outputs": [
    {
     "name": "stdout",
     "output_type": "stream",
     "text": [
      "\n",
      " R^2: \n",
      " 0.9139438735612204 \n",
      " RMSE : \n",
      " 10.009682118416665\n"
     ]
    }
   ],
   "source": [
    "###   Imprime o resultado dos dados treinados   ###\n",
    "\n",
    "print('\\n R^2: \\n', treino_importancia_5.score(X_teste_importancia_5,Y_teste), '\\n RMSE : \\n',np.sqrt(mean_squared_error(treino_importancia_5.predict(X_teste_importancia_5),Y_teste)))"
   ]
  }
 ],
 "metadata": {
  "colab": {
   "collapsed_sections": [],
   "name": "regressao_floresta_aleatoria.ipynb",
   "provenance": []
  },
  "kernelspec": {
   "display_name": "Python 3",
   "language": "python",
   "name": "python3"
  },
  "language_info": {
   "codemirror_mode": {
    "name": "ipython",
    "version": 3
   },
   "file_extension": ".py",
   "mimetype": "text/x-python",
   "name": "python",
   "nbconvert_exporter": "python",
   "pygments_lexer": "ipython3",
   "version": "3.7.4"
  }
 },
 "nbformat": 4,
 "nbformat_minor": 4
}
