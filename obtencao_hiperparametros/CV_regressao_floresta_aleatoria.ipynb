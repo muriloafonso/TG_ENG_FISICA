{
 "cells": [
  {
   "cell_type": "code",
   "execution_count": null,
   "metadata": {},
   "outputs": [],
   "source": [
    "###   Importação de bibliotecas   ###"
   ]
  },
  {
   "cell_type": "code",
   "execution_count": 1,
   "metadata": {
    "colab": {},
    "colab_type": "code",
    "id": "ZsMz_820Xjer"
   },
   "outputs": [],
   "source": [
    "import supercon_dados as tsd\n",
    "import supercon_funcoes_apoio_ML as tsf\n",
    "import numpy as np\n",
    "from sklearn.metrics import mean_squared_error, r2_score\n",
    "import pandas as pd\n",
    "from sklearn.ensemble import RandomForestRegressor\n",
    "from sklearn.ensemble import ExtraTreesRegressor"
   ]
  },
  {
   "cell_type": "code",
   "execution_count": null,
   "metadata": {},
   "outputs": [],
   "source": [
    "### Divisão dos dados que serão usados em um processão de validação cruzada para obtenção de melhores parâmetros  ###"
   ]
  },
  {
   "cell_type": "code",
   "execution_count": 2,
   "metadata": {
    "colab": {},
    "colab_type": "code",
    "id": "AXkgxxe9Xjev"
   },
   "outputs": [],
   "source": [
    "X_treino, X_teste, Y_treino, Y_teste = tsf.divisao_dados_treinamento(0.2,tsd.X_modelagem,tsd.Y_modelagem)\n"
   ]
  },
  {
   "cell_type": "code",
   "execution_count": 3,
   "metadata": {},
   "outputs": [
    {
     "data": {
      "text/plain": [
       "RandomForestRegressor(bootstrap=True, criterion='mse', max_depth=None,\n",
       "                      max_features='auto', max_leaf_nodes=None,\n",
       "                      min_impurity_decrease=0.0, min_impurity_split=None,\n",
       "                      min_samples_leaf=1, min_samples_split=2,\n",
       "                      min_weight_fraction_leaf=0.0, n_estimators=800,\n",
       "                      n_jobs=None, oob_score=False, random_state=None,\n",
       "                      verbose=0, warm_start=False)"
      ]
     },
     "execution_count": 3,
     "metadata": {},
     "output_type": "execute_result"
    }
   ],
   "source": [
    "reg_floa = RandomForestRegressor(n_estimators=800,max_depth=None,min_samples_split=2)\n",
    "reg_floa.fit(X_treino,Y_treino)"
   ]
  },
  {
   "cell_type": "code",
   "execution_count": 4,
   "metadata": {},
   "outputs": [
    {
     "name": "stdout",
     "output_type": "stream",
     "text": [
      "\n",
      " R^2: \n",
      " 0.9785403668335481 \n",
      " RMSE : \n",
      " 5.011242995776738\n"
     ]
    }
   ],
   "source": [
    "###   Imprime o resultado dos os dados treinados   ###\n",
    "\n",
    "print('\\n R^2: \\n', reg_floa.score(X_treino,Y_treino), '\\n RMSE : \\n',np.sqrt(mean_squared_error(reg_floa.predict(X_treino),Y_treino)))"
   ]
  },
  {
   "cell_type": "code",
   "execution_count": 5,
   "metadata": {},
   "outputs": [
    {
     "name": "stdout",
     "output_type": "stream",
     "text": [
      "\n",
      " R^2: \n",
      " 0.9314259007515217 \n",
      " RMSE : \n",
      " 8.935306300135691\n"
     ]
    }
   ],
   "source": [
    "###   Imprime o resultado sobre dados nunca treinados   ###\n",
    "\n",
    "print('\\n R^2: \\n', reg_floa.score(X_teste,Y_teste), '\\n RMSE : \\n',np.sqrt(mean_squared_error(reg_floa.predict(X_teste),Y_teste)))"
   ]
  },
  {
   "cell_type": "code",
   "execution_count": null,
   "metadata": {},
   "outputs": [],
   "source": [
    "###   Processo de validação cruzada visando a obtenção de melhores parâmetros   ###\n",
    "###   O processo trabalha sobre as funções criadas no arquivo TCC_supercon_funcoes_apoio_M   ###"
   ]
  },
  {
   "cell_type": "code",
   "execution_count": 8,
   "metadata": {
    "colab": {},
    "colab_type": "code",
    "id": "4SR6XNTSXjex"
   },
   "outputs": [],
   "source": [
    "###   Chamando a classe para o processo   ###\n",
    "\n",
    "reg_floa = RandomForestRegressor(max_features=None)"
   ]
  },
  {
   "cell_type": "code",
   "execution_count": 9,
   "metadata": {
    "colab": {},
    "colab_type": "code",
    "id": "WzEXpR9ZXjey"
   },
   "outputs": [],
   "source": [
    "###   Parâmetros a serem avalizados   ###\n",
    "\n",
    "parametros = {'n_estimators' : [500,600,700], 'max_depth': [10,20,40,60], 'min_samples_split':[4,5,7,9],\n",
    "             'min_samples_leaf':[2,4,5,6]}"
   ]
  },
  {
   "cell_type": "code",
   "execution_count": 11,
   "metadata": {
    "colab": {},
    "colab_type": "code",
    "id": "uFMsLnVRXje0"
   },
   "outputs": [],
   "source": [
    "resultados_analise_parametros = tsf.obter_parametros(reg_floa, parametros, X_treino,Y_treino)"
   ]
  },
  {
   "cell_type": "code",
   "execution_count": 12,
   "metadata": {},
   "outputs": [
    {
     "data": {
      "text/plain": [
       "RandomForestRegressor(bootstrap=True, criterion='mse', max_depth=20,\n",
       "                      max_features=None, max_leaf_nodes=None,\n",
       "                      min_impurity_decrease=0.0, min_impurity_split=None,\n",
       "                      min_samples_leaf=2, min_samples_split=4,\n",
       "                      min_weight_fraction_leaf=0.0, n_estimators=600,\n",
       "                      n_jobs=None, oob_score=False, random_state=None,\n",
       "                      verbose=0, warm_start=False)"
      ]
     },
     "execution_count": 12,
     "metadata": {},
     "output_type": "execute_result"
    }
   ],
   "source": [
    "###   Imprime o resultado dos os dados treinados   ###\n",
    "\n",
    "resultados_analise_parametros.best_estimator_"
   ]
  },
  {
   "cell_type": "code",
   "execution_count": 13,
   "metadata": {},
   "outputs": [
    {
     "data": {
      "text/plain": [
       "RandomForestRegressor(bootstrap=True, criterion='mse', max_depth=20,\n",
       "                      max_features=None, max_leaf_nodes=None,\n",
       "                      min_impurity_decrease=0.0, min_impurity_split=None,\n",
       "                      min_samples_leaf=2, min_samples_split=4,\n",
       "                      min_weight_fraction_leaf=0.0, n_estimators=600,\n",
       "                      n_jobs=None, oob_score=False, random_state=None,\n",
       "                      verbose=0, warm_start=False)"
      ]
     },
     "execution_count": 13,
     "metadata": {},
     "output_type": "execute_result"
    }
   ],
   "source": [
    "###   Treina o modelo com os melhores prâmetros   ###\n",
    "\n",
    "reg_floa = resultados_analise_parametros.best_estimator_\n",
    "reg_floa.fit(X_treino,Y_treino)"
   ]
  },
  {
   "cell_type": "code",
   "execution_count": 14,
   "metadata": {},
   "outputs": [
    {
     "name": "stdout",
     "output_type": "stream",
     "text": [
      "\n",
      " R^2: \n",
      " 0.9738380127072168 \n",
      " RMSE : \n",
      " 5.533114794453279\n"
     ]
    }
   ],
   "source": [
    "###   Imprime o resultado dos os dados treinados   ###\n",
    "\n",
    "print('\\n R^2: \\n', reg_floa.score(X_treino,Y_treino), '\\n RMSE : \\n',np.sqrt(mean_squared_error(reg_floa.predict(X_treino),Y_treino)))"
   ]
  },
  {
   "cell_type": "code",
   "execution_count": 15,
   "metadata": {},
   "outputs": [
    {
     "name": "stdout",
     "output_type": "stream",
     "text": [
      "\n",
      " R^2: \n",
      " 0.9309730093939738 \n",
      " RMSE : \n",
      " 8.964763948613736\n"
     ]
    }
   ],
   "source": [
    "###   Imprime o resultado sobre dados nunca treinados   ###\n",
    "\n",
    "print('\\n R^2: \\n', reg_floa.score(X_teste,Y_teste), '\\n RMSE : \\n',np.sqrt(mean_squared_error(reg_floa.predict(X_teste),Y_teste)))"
   ]
  },
  {
   "cell_type": "code",
   "execution_count": null,
   "metadata": {},
   "outputs": [],
   "source": [
    "###   Processo de validação cruzada visando a obtenção de melhores parâmetros 2   ###\n",
    "###   O processo trabalha sobre as funções criadas no arquivo TCC_supercon_funcoes_apoio_M   ###"
   ]
  },
  {
   "cell_type": "code",
   "execution_count": 16,
   "metadata": {},
   "outputs": [],
   "source": [
    "###   Parâmetros a serem avalizados   ###\n",
    "\n",
    "parametros2 = {'n_estimators' : [550,600,650], 'max_depth': [20,25,30], 'min_samples_split':[3,4],\n",
    "             'min_samples_leaf':[2]}"
   ]
  },
  {
   "cell_type": "code",
   "execution_count": 17,
   "metadata": {},
   "outputs": [],
   "source": [
    "reg_floa2 = RandomForestRegressor(max_features=None)"
   ]
  },
  {
   "cell_type": "code",
   "execution_count": 18,
   "metadata": {},
   "outputs": [],
   "source": [
    "resultados_analise_parametros2 = tsf.obter_parametros(reg_floa2, parametros2, X_treino,Y_treino)"
   ]
  },
  {
   "cell_type": "code",
   "execution_count": 19,
   "metadata": {},
   "outputs": [
    {
     "data": {
      "text/plain": [
       "RandomForestRegressor(bootstrap=True, criterion='mse', max_depth=20,\n",
       "                      max_features=None, max_leaf_nodes=None,\n",
       "                      min_impurity_decrease=0.0, min_impurity_split=None,\n",
       "                      min_samples_leaf=2, min_samples_split=3,\n",
       "                      min_weight_fraction_leaf=0.0, n_estimators=600,\n",
       "                      n_jobs=None, oob_score=False, random_state=None,\n",
       "                      verbose=0, warm_start=False)"
      ]
     },
     "execution_count": 19,
     "metadata": {},
     "output_type": "execute_result"
    }
   ],
   "source": [
    "treino2=resultados_analise_parametros2.best_estimator_\n",
    "treino2.fit(X_treino,Y_treino)"
   ]
  },
  {
   "cell_type": "code",
   "execution_count": 20,
   "metadata": {},
   "outputs": [
    {
     "name": "stdout",
     "output_type": "stream",
     "text": [
      "\n",
      " R^2: \n",
      " 0.9737914724091341 \n",
      " RMSE : \n",
      " 5.538034114735175\n"
     ]
    }
   ],
   "source": [
    "###   Imprime o resultado dos dados treinados   ###\n",
    "\n",
    "print('\\n R^2: \\n', treino2.score(X_treino,Y_treino), '\\n RMSE : \\n',np.sqrt(mean_squared_error(treino2.predict(X_treino),Y_treino)))"
   ]
  },
  {
   "cell_type": "code",
   "execution_count": 21,
   "metadata": {},
   "outputs": [
    {
     "name": "stdout",
     "output_type": "stream",
     "text": [
      "\n",
      " R^2: \n",
      " 0.9311158979089726 \n",
      " RMSE : \n",
      " 8.955480439411767\n"
     ]
    }
   ],
   "source": [
    "###   Imprime o resultado dos dados nunca treinados   ###\n",
    "\n",
    "print('\\n R^2: \\n', treino2.score(X_teste,Y_teste), '\\n RMSE : \\n',np.sqrt(mean_squared_error(treino2.predict(X_teste),Y_teste)))"
   ]
  },
  {
   "cell_type": "code",
   "execution_count": 22,
   "metadata": {},
   "outputs": [],
   "source": [
    "###   Processo de validação cruzada visando a obtenção de melhores parâmetros 3   ###\n",
    "###   O processo trabalha sobre as funções criadas no arquivo TCC_supercon_funcoes_apoio_M   ###"
   ]
  },
  {
   "cell_type": "code",
   "execution_count": 23,
   "metadata": {},
   "outputs": [],
   "source": [
    "reg_floa3 = RandomForestRegressor(max_features=None)"
   ]
  },
  {
   "cell_type": "code",
   "execution_count": 24,
   "metadata": {},
   "outputs": [],
   "source": [
    "###   Parâmetros a serem avalizados   ###\n",
    "\n",
    "parametros3 = {'n_estimators' : [300,600,625,800], 'max_depth': [18,20], 'min_samples_split':[3],\n",
    "             'min_samples_leaf':[2]}"
   ]
  },
  {
   "cell_type": "code",
   "execution_count": 25,
   "metadata": {},
   "outputs": [],
   "source": [
    "resultados_analise_parametros3 = tsf.obter_parametros(reg_floa3, parametros3, X_treino,Y_treino)"
   ]
  },
  {
   "cell_type": "code",
   "execution_count": 26,
   "metadata": {},
   "outputs": [
    {
     "data": {
      "text/plain": [
       "RandomForestRegressor(bootstrap=True, criterion='mse', max_depth=20,\n",
       "                      max_features=None, max_leaf_nodes=None,\n",
       "                      min_impurity_decrease=0.0, min_impurity_split=None,\n",
       "                      min_samples_leaf=2, min_samples_split=3,\n",
       "                      min_weight_fraction_leaf=0.0, n_estimators=800,\n",
       "                      n_jobs=None, oob_score=False, random_state=None,\n",
       "                      verbose=0, warm_start=False)"
      ]
     },
     "execution_count": 26,
     "metadata": {},
     "output_type": "execute_result"
    }
   ],
   "source": [
    "treino3=resultados_analise_parametros3.best_estimator_\n",
    "treino3.fit(X_treino,Y_treino)"
   ]
  },
  {
   "cell_type": "code",
   "execution_count": 29,
   "metadata": {},
   "outputs": [
    {
     "name": "stdout",
     "output_type": "stream",
     "text": [
      "\n",
      " R^2: \n",
      " 0.9737570873349902 \n",
      " RMSE : \n",
      " 5.541665820011726\n"
     ]
    }
   ],
   "source": [
    "###   Imprime o resultado dos dados treinados   ###\n",
    "\n",
    "print('\\n R^2: \\n', treino3.score(X_treino,Y_treino), '\\n RMSE : \\n',np.sqrt(mean_squared_error(treino3.predict(X_treino),Y_treino)))"
   ]
  },
  {
   "cell_type": "code",
   "execution_count": 30,
   "metadata": {},
   "outputs": [
    {
     "name": "stdout",
     "output_type": "stream",
     "text": [
      "\n",
      " R^2: \n",
      " 0.9311916785456755 \n",
      " RMSE : \n",
      " 8.950553041499006\n"
     ]
    }
   ],
   "source": [
    "###   Imprime o resultado dos dados nunca treinados   ###\n",
    "\n",
    "print('\\n R^2: \\n', treino3.score(X_teste,Y_teste), '\\n RMSE : \\n',np.sqrt(mean_squared_error(treino3.predict(X_teste),Y_teste)))"
   ]
  },
  {
   "cell_type": "code",
   "execution_count": 31,
   "metadata": {},
   "outputs": [],
   "source": [
    "###   Processo de validação cruzada visando a obtenção de melhores parâmetros 4   ###\n",
    "###   O processo trabalha sobre as funções criadas no arquivo TCC_supercon_funcoes_apoio_M   ###"
   ]
  },
  {
   "cell_type": "code",
   "execution_count": 32,
   "metadata": {},
   "outputs": [],
   "source": [
    "parametros4 = {'n_estimators' : [600,650,700,750,800,850], 'max_depth': [20], 'min_samples_split':[3],\n",
    "             'min_samples_leaf':[2]}"
   ]
  },
  {
   "cell_type": "code",
   "execution_count": 33,
   "metadata": {},
   "outputs": [],
   "source": [
    "reg_floa4 = RandomForestRegressor(max_features=None)"
   ]
  },
  {
   "cell_type": "code",
   "execution_count": 34,
   "metadata": {},
   "outputs": [],
   "source": [
    "resultados_analise_parametros4 = tsf.obter_parametros(reg_floa4, parametros4, X_treino,Y_treino)"
   ]
  },
  {
   "cell_type": "code",
   "execution_count": 35,
   "metadata": {},
   "outputs": [
    {
     "data": {
      "text/plain": [
       "RandomForestRegressor(bootstrap=True, criterion='mse', max_depth=20,\n",
       "                      max_features=None, max_leaf_nodes=None,\n",
       "                      min_impurity_decrease=0.0, min_impurity_split=None,\n",
       "                      min_samples_leaf=2, min_samples_split=3,\n",
       "                      min_weight_fraction_leaf=0.0, n_estimators=800,\n",
       "                      n_jobs=None, oob_score=False, random_state=None,\n",
       "                      verbose=0, warm_start=False)"
      ]
     },
     "execution_count": 35,
     "metadata": {},
     "output_type": "execute_result"
    }
   ],
   "source": [
    "treino4=resultados_analise_parametros4.best_estimator_\n",
    "treino4.fit(X_treino,Y_treino)"
   ]
  },
  {
   "cell_type": "code",
   "execution_count": 36,
   "metadata": {},
   "outputs": [
    {
     "name": "stdout",
     "output_type": "stream",
     "text": [
      "\n",
      " R^2: \n",
      " 0.9738877545151801 \n",
      " RMSE : \n",
      " 5.5278522339801315\n"
     ]
    }
   ],
   "source": [
    "###   Imprime o resultado dos dados treinados   ###\n",
    "\n",
    "print('\\n R^2: \\n', treino4.score(X_treino,Y_treino), '\\n RMSE : \\n',np.sqrt(mean_squared_error(treino4.predict(X_treino),Y_treino)))"
   ]
  },
  {
   "cell_type": "code",
   "execution_count": 37,
   "metadata": {},
   "outputs": [
    {
     "name": "stdout",
     "output_type": "stream",
     "text": [
      "\n",
      " R^2: \n",
      " 0.9313370539268344 \n",
      " RMSE : \n",
      " 8.94109286259463\n"
     ]
    }
   ],
   "source": [
    "###   Imprime o resultado dos dados nunca treinados   ###\n",
    "\n",
    "print('\\n R^2: \\n', treino4.score(X_teste,Y_teste), '\\n RMSE : \\n',np.sqrt(mean_squared_error(treino4.predict(X_teste),Y_teste)))"
   ]
  },
  {
   "cell_type": "code",
   "execution_count": 39,
   "metadata": {},
   "outputs": [
    {
     "data": {
      "image/png": "[encoded data removed]",
      "text/plain": [
       "<Figure size 360x360 with 1 Axes>"
      ]
     },
     "metadata": {
      "needs_background": "light"
     },
     "output_type": "display_data"
    }
   ],
   "source": [
    "###   Visualização dos resultados de treinamento sobre dados nunca treinados pelo modelo   ###\n",
    "\n",
    "import matplotlib.pyplot as plt\n",
    "\n",
    "print_x = Y_teste\n",
    "print_y = treino4.predict(X_teste)\n",
    "\n",
    "f, ax = plt.subplots(figsize=(5, 5))\n",
    "plt.title('Tc prevista pelo modelo vs. Tc medida em laboratório')\n",
    "\n",
    "plt.xlabel('Temperatura crítica medida (K)')\n",
    "plt.ylabel('Temperatura crítica prevista (K)')\n",
    "plt.legend('Previsão')\n",
    "plt.plot(print_x,print_y, 'b.',label = 'Previsão')\n",
    "plt.plot(print_x,print_x, 'r-', label = 'Curva Ideal')\n",
    "plt.legend()\n",
    "\n",
    "plt.axis([-10,150,-10,150])\n",
    "\n",
    "plt.show()"
   ]
  }
 ],
 "metadata": {
  "colab": {
   "collapsed_sections": [],
   "name": "regressao_floresta_aleatoria.ipynb",
   "provenance": []
  },
  "kernelspec": {
   "display_name": "Python 3",
   "language": "python",
   "name": "python3"
  },
  "language_info": {
   "codemirror_mode": {
    "name": "ipython",
    "version": 3
   },
   "file_extension": ".py",
   "mimetype": "text/x-python",
   "name": "python",
   "nbconvert_exporter": "python",
   "pygments_lexer": "ipython3",
   "version": "3.7.4"
  }
 },
 "nbformat": 4,
 "nbformat_minor": 4
}
