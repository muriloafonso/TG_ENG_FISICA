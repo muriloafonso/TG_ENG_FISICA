{
 "cells": [
  {
   "cell_type": "code",
   "execution_count": null,
   "metadata": {},
   "outputs": [],
   "source": [
    "# import TCC_supercon_dados as tsd\n",
    "import numpy as np\n",
    "import pandas as pd\n",
    "from sklearn.model_selection import train_test_split\n",
    "from sklearn.model_selection import GridSearchCV\n",
    "from sklearn.linear_model import LinearRegression\n",
    "from sklearn.model_selection import cross_val_score"
   ]
  },
  {
   "cell_type": "code",
   "execution_count": null,
   "metadata": {},
   "outputs": [],
   "source": [
    "###   Função para divisão do conjunto a ser treinado e testado; argumentos: percentual do conjunto de teste, conjunto X e conjunto Y  ###"
   ]
  },
  {
   "cell_type": "code",
   "execution_count": null,
   "metadata": {},
   "outputs": [],
   "source": [
    " def divisao_dados_treinamento(split_test_size,X, Y,random_state = 51):\n",
    "\n",
    "        # Definindo a taxa de split (percentual)\n",
    "        split_test_size = split_test_size\n",
    "\n",
    "        # Criando dados de treino e de teste\n",
    "        X_treino, X_teste, Y_treino, Y_teste = train_test_split(X, Y, test_size = split_test_size, random_state = random_state)\n",
    "        \n",
    "        return X_treino, X_teste, Y_treino, Y_teste"
   ]
  },
  {
   "cell_type": "code",
   "execution_count": null,
   "metadata": {},
   "outputs": [],
   "source": [
    "###   Divisão dos dados: dados para treinamento dos modelos   ###\n",
    "\n",
    "# X_treino, X_teste, Y_treino, Y_teste = divisao_dados_treinamento(0.2,tsd.X_modelagem,tsd.Y_modelagem)"
   ]
  },
  {
   "cell_type": "code",
   "execution_count": null,
   "metadata": {},
   "outputs": [],
   "source": [
    "def config_parametros(clase_modelo, parametros, cv= 10, n_jobs = -1):\n",
    "    \n",
    "    #Instancia o objeto com a classe que treina determinado modelo de ML\n",
    "    modelo = clase_modelo\n",
    "    \n",
    "    grid_classe = GridSearchCV(modelo, parametros, cv=cv,n_jobs=n_jobs)\n",
    "    \n",
    "    return modelo, grid_classe"
   ]
  },
  {
   "cell_type": "code",
   "execution_count": null,
   "metadata": {},
   "outputs": [],
   "source": [
    "def obter_parametros(clase_modelo, parametros, X,Y):    \n",
    "    \n",
    "    modelo, grid_classe = config_parametros(clase_modelo, parametros)\n",
    "    \n",
    "    return grid_classe.fit(X,Y)   \n",
    "    "
   ]
  },
  {
   "cell_type": "code",
   "execution_count": null,
   "metadata": {},
   "outputs": [],
   "source": [
    "def validacao_cruzada(clase_modelo,X,Y, cv= 10,n_jobs = -1):\n",
    "    \n",
    "    resultados = cross_val_score(clase_modelo,X,Y,cv=cv,n_jobs=n_jobs)\n",
    "    \n",
    "    return resultados   \n",
    "    "
   ]
  }
 ],
 "metadata": {
  "kernelspec": {
   "display_name": "Python 3",
   "language": "python",
   "name": "python3"
  },
  "language_info": {
   "codemirror_mode": {
    "name": "ipython",
    "version": 3
   },
   "file_extension": ".py",
   "mimetype": "text/x-python",
   "name": "python",
   "nbconvert_exporter": "python",
   "pygments_lexer": "ipython3",
   "version": "3.7.4"
  }
 },
 "nbformat": 4,
 "nbformat_minor": 4
}
